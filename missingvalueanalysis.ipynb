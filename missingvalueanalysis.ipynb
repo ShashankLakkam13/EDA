{
 "cells": [
  {
   "cell_type": "code",
   "execution_count": 2,
   "id": "4e30d7d8-e0eb-4550-b576-a35460b10f1d",
   "metadata": {},
   "outputs": [],
   "source": [
    "import numpy as np\n",
    "import pandas as pd\n",
    "import matplotlib.pyplot as plt\n",
    "import seaborn as sns"
   ]
  },
  {
   "cell_type": "code",
   "execution_count": 4,
   "id": "44ce4011-1e2e-4f7d-a878-0aea75574a37",
   "metadata": {},
   "outputs": [],
   "source": [
    "dict1={'names':[\"shashank\",np.nan,\"rahuk\"],\n",
    "        'age':[np.nan,21,34],\n",
    "        'city':[\"hyd\",'bang',np.nan]\n",
    "}"
   ]
  },
  {
   "cell_type": "code",
   "execution_count": 5,
   "id": "256d33a3-ea55-45ed-b69a-5b16a3e99a7f",
   "metadata": {},
   "outputs": [
    {
     "data": {
      "text/plain": [
       "{'names': ['shashank', nan, 'rahuk'],\n",
       " 'age': [nan, 21, 34],\n",
       " 'city': ['hyd', 'bang', nan]}"
      ]
     },
     "execution_count": 5,
     "metadata": {},
     "output_type": "execute_result"
    }
   ],
   "source": [
    "dict1"
   ]
  },
  {
   "cell_type": "code",
   "execution_count": 7,
   "id": "c94f2286-75c9-460a-ae23-8435a1d4eef4",
   "metadata": {},
   "outputs": [
    {
     "data": {
      "text/html": [
       "<div>\n",
       "<style scoped>\n",
       "    .dataframe tbody tr th:only-of-type {\n",
       "        vertical-align: middle;\n",
       "    }\n",
       "\n",
       "    .dataframe tbody tr th {\n",
       "        vertical-align: top;\n",
       "    }\n",
       "\n",
       "    .dataframe thead th {\n",
       "        text-align: right;\n",
       "    }\n",
       "</style>\n",
       "<table border=\"1\" class=\"dataframe\">\n",
       "  <thead>\n",
       "    <tr style=\"text-align: right;\">\n",
       "      <th></th>\n",
       "      <th>names</th>\n",
       "      <th>age</th>\n",
       "      <th>city</th>\n",
       "    </tr>\n",
       "  </thead>\n",
       "  <tbody>\n",
       "    <tr>\n",
       "      <th>p1</th>\n",
       "      <td>shashank</td>\n",
       "      <td>NaN</td>\n",
       "      <td>hyd</td>\n",
       "    </tr>\n",
       "    <tr>\n",
       "      <th>p2</th>\n",
       "      <td>NaN</td>\n",
       "      <td>21.0</td>\n",
       "      <td>bang</td>\n",
       "    </tr>\n",
       "    <tr>\n",
       "      <th>p3</th>\n",
       "      <td>rahuk</td>\n",
       "      <td>34.0</td>\n",
       "      <td>NaN</td>\n",
       "    </tr>\n",
       "  </tbody>\n",
       "</table>\n",
       "</div>"
      ],
      "text/plain": [
       "       names   age  city\n",
       "p1  shashank   NaN   hyd\n",
       "p2       NaN  21.0  bang\n",
       "p3     rahuk  34.0   NaN"
      ]
     },
     "execution_count": 7,
     "metadata": {},
     "output_type": "execute_result"
    }
   ],
   "source": [
    "pd.DataFrame(dict1,index=[\"p1\",\"p2\",\"p3\"])"
   ]
  },
  {
   "cell_type": "code",
   "execution_count": 9,
   "id": "6e728852-9738-41ab-8f0a-74e0d58a28f2",
   "metadata": {},
   "outputs": [],
   "source": [
    "d1=pd.DataFrame(dict1)"
   ]
  },
  {
   "cell_type": "code",
   "execution_count": 10,
   "id": "7d122c6f-7c8c-4471-98f4-24ec668e8ebd",
   "metadata": {},
   "outputs": [
    {
     "data": {
      "text/plain": [
       "names     object\n",
       "age      float64\n",
       "city      object\n",
       "dtype: object"
      ]
     },
     "execution_count": 10,
     "metadata": {},
     "output_type": "execute_result"
    }
   ],
   "source": [
    "d1.dtypes"
   ]
  },
  {
   "cell_type": "code",
   "execution_count": 11,
   "id": "412af347-2caa-42d3-bc7c-c7a8b520c02d",
   "metadata": {},
   "outputs": [
    {
     "data": {
      "text/html": [
       "<div>\n",
       "<style scoped>\n",
       "    .dataframe tbody tr th:only-of-type {\n",
       "        vertical-align: middle;\n",
       "    }\n",
       "\n",
       "    .dataframe tbody tr th {\n",
       "        vertical-align: top;\n",
       "    }\n",
       "\n",
       "    .dataframe thead th {\n",
       "        text-align: right;\n",
       "    }\n",
       "</style>\n",
       "<table border=\"1\" class=\"dataframe\">\n",
       "  <thead>\n",
       "    <tr style=\"text-align: right;\">\n",
       "      <th></th>\n",
       "      <th>names</th>\n",
       "      <th>age</th>\n",
       "      <th>city</th>\n",
       "    </tr>\n",
       "  </thead>\n",
       "  <tbody>\n",
       "    <tr>\n",
       "      <th>0</th>\n",
       "      <td>False</td>\n",
       "      <td>True</td>\n",
       "      <td>False</td>\n",
       "    </tr>\n",
       "    <tr>\n",
       "      <th>1</th>\n",
       "      <td>True</td>\n",
       "      <td>False</td>\n",
       "      <td>False</td>\n",
       "    </tr>\n",
       "    <tr>\n",
       "      <th>2</th>\n",
       "      <td>False</td>\n",
       "      <td>False</td>\n",
       "      <td>True</td>\n",
       "    </tr>\n",
       "  </tbody>\n",
       "</table>\n",
       "</div>"
      ],
      "text/plain": [
       "   names    age   city\n",
       "0  False   True  False\n",
       "1   True  False  False\n",
       "2  False  False   True"
      ]
     },
     "execution_count": 11,
     "metadata": {},
     "output_type": "execute_result"
    }
   ],
   "source": [
    "d1.isnull()"
   ]
  },
  {
   "cell_type": "code",
   "execution_count": 12,
   "id": "775a7aed-c2b8-42e9-8dde-c7b5e08bb80d",
   "metadata": {},
   "outputs": [
    {
     "data": {
      "text/plain": [
       "names    1\n",
       "age      1\n",
       "city     1\n",
       "dtype: int64"
      ]
     },
     "execution_count": 12,
     "metadata": {},
     "output_type": "execute_result"
    }
   ],
   "source": [
    "d1.isnull().sum()"
   ]
  },
  {
   "cell_type": "code",
   "execution_count": 13,
   "id": "b94b5b06-0779-4538-adf0-665554c96e89",
   "metadata": {},
   "outputs": [],
   "source": [
    "# np.nan =means it is not a number applicable for numerical columns"
   ]
  },
  {
   "cell_type": "code",
   "execution_count": 14,
   "id": "2f872157-ac07-47fa-889a-2ebd04459c48",
   "metadata": {},
   "outputs": [
    {
     "data": {
      "text/plain": [
       "names    33.333333\n",
       "age      33.333333\n",
       "city     33.333333\n",
       "dtype: float64"
      ]
     },
     "execution_count": 14,
     "metadata": {},
     "output_type": "execute_result"
    }
   ],
   "source": [
    "# percentage of null values in each column\n",
    "d1.isnull().sum()*100/len(d1)"
   ]
  },
  {
   "cell_type": "markdown",
   "id": "c6a6b015-ac94-4273-87b8-30d5ce0c39a4",
   "metadata": {},
   "source": [
    "**Method-1**\n",
    "\n",
    "**Fill with some random value**\n",
    "\n",
    "**Method name**: fill na"
   ]
  },
  {
   "cell_type": "code",
   "execution_count": 15,
   "id": "45fe3998-ddea-45ce-92f2-18cea9a6a778",
   "metadata": {},
   "outputs": [
    {
     "data": {
      "text/html": [
       "<div>\n",
       "<style scoped>\n",
       "    .dataframe tbody tr th:only-of-type {\n",
       "        vertical-align: middle;\n",
       "    }\n",
       "\n",
       "    .dataframe tbody tr th {\n",
       "        vertical-align: top;\n",
       "    }\n",
       "\n",
       "    .dataframe thead th {\n",
       "        text-align: right;\n",
       "    }\n",
       "</style>\n",
       "<table border=\"1\" class=\"dataframe\">\n",
       "  <thead>\n",
       "    <tr style=\"text-align: right;\">\n",
       "      <th></th>\n",
       "      <th>names</th>\n",
       "      <th>age</th>\n",
       "      <th>city</th>\n",
       "    </tr>\n",
       "  </thead>\n",
       "  <tbody>\n",
       "    <tr>\n",
       "      <th>0</th>\n",
       "      <td>shashank</td>\n",
       "      <td>40.0</td>\n",
       "      <td>hyd</td>\n",
       "    </tr>\n",
       "    <tr>\n",
       "      <th>1</th>\n",
       "      <td>40</td>\n",
       "      <td>21.0</td>\n",
       "      <td>bang</td>\n",
       "    </tr>\n",
       "    <tr>\n",
       "      <th>2</th>\n",
       "      <td>rahuk</td>\n",
       "      <td>34.0</td>\n",
       "      <td>40</td>\n",
       "    </tr>\n",
       "  </tbody>\n",
       "</table>\n",
       "</div>"
      ],
      "text/plain": [
       "      names   age  city\n",
       "0  shashank  40.0   hyd\n",
       "1        40  21.0  bang\n",
       "2     rahuk  34.0    40"
      ]
     },
     "execution_count": 15,
     "metadata": {},
     "output_type": "execute_result"
    }
   ],
   "source": [
    "d1.fillna(40)"
   ]
  },
  {
   "cell_type": "markdown",
   "id": "1ce38b09-422d-431c-a2be-60ddaf7859a0",
   "metadata": {},
   "source": [
    "**Method-2**\n",
    "\n",
    "- We can fill the values w.r.t columns also"
   ]
  },
  {
   "cell_type": "code",
   "execution_count": 17,
   "id": "67bfdbc8-a4e6-4001-b44a-237c03e37efd",
   "metadata": {},
   "outputs": [],
   "source": [
    "d1['names'].fillna(\"ravi\",inplace=True)"
   ]
  },
  {
   "cell_type": "code",
   "execution_count": 18,
   "id": "92f8cdd7-94b0-4375-b386-8d8057f6f8bd",
   "metadata": {},
   "outputs": [
    {
     "data": {
      "text/html": [
       "<div>\n",
       "<style scoped>\n",
       "    .dataframe tbody tr th:only-of-type {\n",
       "        vertical-align: middle;\n",
       "    }\n",
       "\n",
       "    .dataframe tbody tr th {\n",
       "        vertical-align: top;\n",
       "    }\n",
       "\n",
       "    .dataframe thead th {\n",
       "        text-align: right;\n",
       "    }\n",
       "</style>\n",
       "<table border=\"1\" class=\"dataframe\">\n",
       "  <thead>\n",
       "    <tr style=\"text-align: right;\">\n",
       "      <th></th>\n",
       "      <th>names</th>\n",
       "      <th>age</th>\n",
       "      <th>city</th>\n",
       "    </tr>\n",
       "  </thead>\n",
       "  <tbody>\n",
       "    <tr>\n",
       "      <th>0</th>\n",
       "      <td>shashank</td>\n",
       "      <td>NaN</td>\n",
       "      <td>hyd</td>\n",
       "    </tr>\n",
       "    <tr>\n",
       "      <th>1</th>\n",
       "      <td>ravi</td>\n",
       "      <td>21.0</td>\n",
       "      <td>bang</td>\n",
       "    </tr>\n",
       "    <tr>\n",
       "      <th>2</th>\n",
       "      <td>rahuk</td>\n",
       "      <td>34.0</td>\n",
       "      <td>NaN</td>\n",
       "    </tr>\n",
       "  </tbody>\n",
       "</table>\n",
       "</div>"
      ],
      "text/plain": [
       "      names   age  city\n",
       "0  shashank   NaN   hyd\n",
       "1      ravi  21.0  bang\n",
       "2     rahuk  34.0   NaN"
      ]
     },
     "execution_count": 18,
     "metadata": {},
     "output_type": "execute_result"
    }
   ],
   "source": [
    "d1"
   ]
  },
  {
   "cell_type": "markdown",
   "id": "8b7d5567-a122-4da9-88f6-1d78664b05de",
   "metadata": {},
   "source": [
    "**Method-3**\n",
    "\n",
    "- bfill\n",
    "\n",
    "- ffill\n",
    "\n",
    "- pad\n",
    "\n",
    "- backfill"
   ]
  },
  {
   "cell_type": "code",
   "execution_count": 19,
   "id": "1fc9fc9e-ec07-4f86-a7e9-4caf70b2352e",
   "metadata": {},
   "outputs": [],
   "source": [
    "dict1={'names':[\"shashank\",np.nan,\"rahuk\"],\n",
    "        'age':[np.nan,21,34],\n",
    "        'city':[\"hyd\",'bang',np.nan]\n",
    "}"
   ]
  },
  {
   "cell_type": "code",
   "execution_count": 20,
   "id": "5ab88710-3ac5-4047-b79f-f739bb744d16",
   "metadata": {},
   "outputs": [
    {
     "data": {
      "text/plain": [
       "{'names': ['shashank', nan, 'rahuk'],\n",
       " 'age': [nan, 21, 34],\n",
       " 'city': ['hyd', 'bang', nan]}"
      ]
     },
     "execution_count": 20,
     "metadata": {},
     "output_type": "execute_result"
    }
   ],
   "source": [
    "dict1"
   ]
  },
  {
   "cell_type": "code",
   "execution_count": 21,
   "id": "4e825ea4-7377-45e2-ac69-6e9fc98871ca",
   "metadata": {},
   "outputs": [],
   "source": [
    "d1=pd.DataFrame(dict1)"
   ]
  },
  {
   "cell_type": "code",
   "execution_count": 22,
   "id": "953ef7ac-3467-447d-8686-b2b54a644f6c",
   "metadata": {},
   "outputs": [
    {
     "data": {
      "text/html": [
       "<div>\n",
       "<style scoped>\n",
       "    .dataframe tbody tr th:only-of-type {\n",
       "        vertical-align: middle;\n",
       "    }\n",
       "\n",
       "    .dataframe tbody tr th {\n",
       "        vertical-align: top;\n",
       "    }\n",
       "\n",
       "    .dataframe thead th {\n",
       "        text-align: right;\n",
       "    }\n",
       "</style>\n",
       "<table border=\"1\" class=\"dataframe\">\n",
       "  <thead>\n",
       "    <tr style=\"text-align: right;\">\n",
       "      <th></th>\n",
       "      <th>names</th>\n",
       "      <th>age</th>\n",
       "      <th>city</th>\n",
       "    </tr>\n",
       "  </thead>\n",
       "  <tbody>\n",
       "    <tr>\n",
       "      <th>0</th>\n",
       "      <td>shashank</td>\n",
       "      <td>NaN</td>\n",
       "      <td>hyd</td>\n",
       "    </tr>\n",
       "    <tr>\n",
       "      <th>1</th>\n",
       "      <td>NaN</td>\n",
       "      <td>21.0</td>\n",
       "      <td>bang</td>\n",
       "    </tr>\n",
       "    <tr>\n",
       "      <th>2</th>\n",
       "      <td>rahuk</td>\n",
       "      <td>34.0</td>\n",
       "      <td>NaN</td>\n",
       "    </tr>\n",
       "  </tbody>\n",
       "</table>\n",
       "</div>"
      ],
      "text/plain": [
       "      names   age  city\n",
       "0  shashank   NaN   hyd\n",
       "1       NaN  21.0  bang\n",
       "2     rahuk  34.0   NaN"
      ]
     },
     "execution_count": 22,
     "metadata": {},
     "output_type": "execute_result"
    }
   ],
   "source": [
    "d1"
   ]
  },
  {
   "cell_type": "code",
   "execution_count": 23,
   "id": "9ab7f76e-2117-4f0c-a83e-7f0e418a5784",
   "metadata": {},
   "outputs": [
    {
     "name": "stderr",
     "output_type": "stream",
     "text": [
      "/var/folders/24/8tn3hq_n69b3bh_npr321plm0000gn/T/ipykernel_56552/2947328357.py:1: FutureWarning: DataFrame.fillna with 'method' is deprecated and will raise in a future version. Use obj.ffill() or obj.bfill() instead.\n",
      "  d1.fillna(method=\"bfill\")\n"
     ]
    },
    {
     "data": {
      "text/html": [
       "<div>\n",
       "<style scoped>\n",
       "    .dataframe tbody tr th:only-of-type {\n",
       "        vertical-align: middle;\n",
       "    }\n",
       "\n",
       "    .dataframe tbody tr th {\n",
       "        vertical-align: top;\n",
       "    }\n",
       "\n",
       "    .dataframe thead th {\n",
       "        text-align: right;\n",
       "    }\n",
       "</style>\n",
       "<table border=\"1\" class=\"dataframe\">\n",
       "  <thead>\n",
       "    <tr style=\"text-align: right;\">\n",
       "      <th></th>\n",
       "      <th>names</th>\n",
       "      <th>age</th>\n",
       "      <th>city</th>\n",
       "    </tr>\n",
       "  </thead>\n",
       "  <tbody>\n",
       "    <tr>\n",
       "      <th>0</th>\n",
       "      <td>shashank</td>\n",
       "      <td>21.0</td>\n",
       "      <td>hyd</td>\n",
       "    </tr>\n",
       "    <tr>\n",
       "      <th>1</th>\n",
       "      <td>rahuk</td>\n",
       "      <td>21.0</td>\n",
       "      <td>bang</td>\n",
       "    </tr>\n",
       "    <tr>\n",
       "      <th>2</th>\n",
       "      <td>rahuk</td>\n",
       "      <td>34.0</td>\n",
       "      <td>NaN</td>\n",
       "    </tr>\n",
       "  </tbody>\n",
       "</table>\n",
       "</div>"
      ],
      "text/plain": [
       "      names   age  city\n",
       "0  shashank  21.0   hyd\n",
       "1     rahuk  21.0  bang\n",
       "2     rahuk  34.0   NaN"
      ]
     },
     "execution_count": 23,
     "metadata": {},
     "output_type": "execute_result"
    }
   ],
   "source": [
    "d1.fillna(method=\"bfill\")"
   ]
  },
  {
   "cell_type": "code",
   "execution_count": 24,
   "id": "0caac54e-bd6b-4085-9638-c6c8688deb7a",
   "metadata": {},
   "outputs": [
    {
     "name": "stderr",
     "output_type": "stream",
     "text": [
      "/var/folders/24/8tn3hq_n69b3bh_npr321plm0000gn/T/ipykernel_56552/981496262.py:1: FutureWarning: DataFrame.fillna with 'method' is deprecated and will raise in a future version. Use obj.ffill() or obj.bfill() instead.\n",
      "  d1.fillna(method='bfill',axis=1)\n"
     ]
    },
    {
     "data": {
      "text/html": [
       "<div>\n",
       "<style scoped>\n",
       "    .dataframe tbody tr th:only-of-type {\n",
       "        vertical-align: middle;\n",
       "    }\n",
       "\n",
       "    .dataframe tbody tr th {\n",
       "        vertical-align: top;\n",
       "    }\n",
       "\n",
       "    .dataframe thead th {\n",
       "        text-align: right;\n",
       "    }\n",
       "</style>\n",
       "<table border=\"1\" class=\"dataframe\">\n",
       "  <thead>\n",
       "    <tr style=\"text-align: right;\">\n",
       "      <th></th>\n",
       "      <th>names</th>\n",
       "      <th>age</th>\n",
       "      <th>city</th>\n",
       "    </tr>\n",
       "  </thead>\n",
       "  <tbody>\n",
       "    <tr>\n",
       "      <th>0</th>\n",
       "      <td>shashank</td>\n",
       "      <td>hyd</td>\n",
       "      <td>hyd</td>\n",
       "    </tr>\n",
       "    <tr>\n",
       "      <th>1</th>\n",
       "      <td>21.0</td>\n",
       "      <td>21.0</td>\n",
       "      <td>bang</td>\n",
       "    </tr>\n",
       "    <tr>\n",
       "      <th>2</th>\n",
       "      <td>rahuk</td>\n",
       "      <td>34.0</td>\n",
       "      <td>NaN</td>\n",
       "    </tr>\n",
       "  </tbody>\n",
       "</table>\n",
       "</div>"
      ],
      "text/plain": [
       "      names   age  city\n",
       "0  shashank   hyd   hyd\n",
       "1      21.0  21.0  bang\n",
       "2     rahuk  34.0   NaN"
      ]
     },
     "execution_count": 24,
     "metadata": {},
     "output_type": "execute_result"
    }
   ],
   "source": [
    "d1.fillna(method='bfill',axis=1)"
   ]
  },
  {
   "cell_type": "code",
   "execution_count": 25,
   "id": "af8aa7ce-1e70-4edc-bf8d-c7221b598ccd",
   "metadata": {},
   "outputs": [
    {
     "name": "stderr",
     "output_type": "stream",
     "text": [
      "/var/folders/24/8tn3hq_n69b3bh_npr321plm0000gn/T/ipykernel_56552/3543224983.py:1: FutureWarning: DataFrame.fillna with 'method' is deprecated and will raise in a future version. Use obj.ffill() or obj.bfill() instead.\n",
      "  d1.fillna(method='backfill')\n"
     ]
    },
    {
     "data": {
      "text/html": [
       "<div>\n",
       "<style scoped>\n",
       "    .dataframe tbody tr th:only-of-type {\n",
       "        vertical-align: middle;\n",
       "    }\n",
       "\n",
       "    .dataframe tbody tr th {\n",
       "        vertical-align: top;\n",
       "    }\n",
       "\n",
       "    .dataframe thead th {\n",
       "        text-align: right;\n",
       "    }\n",
       "</style>\n",
       "<table border=\"1\" class=\"dataframe\">\n",
       "  <thead>\n",
       "    <tr style=\"text-align: right;\">\n",
       "      <th></th>\n",
       "      <th>names</th>\n",
       "      <th>age</th>\n",
       "      <th>city</th>\n",
       "    </tr>\n",
       "  </thead>\n",
       "  <tbody>\n",
       "    <tr>\n",
       "      <th>0</th>\n",
       "      <td>shashank</td>\n",
       "      <td>21.0</td>\n",
       "      <td>hyd</td>\n",
       "    </tr>\n",
       "    <tr>\n",
       "      <th>1</th>\n",
       "      <td>rahuk</td>\n",
       "      <td>21.0</td>\n",
       "      <td>bang</td>\n",
       "    </tr>\n",
       "    <tr>\n",
       "      <th>2</th>\n",
       "      <td>rahuk</td>\n",
       "      <td>34.0</td>\n",
       "      <td>NaN</td>\n",
       "    </tr>\n",
       "  </tbody>\n",
       "</table>\n",
       "</div>"
      ],
      "text/plain": [
       "      names   age  city\n",
       "0  shashank  21.0   hyd\n",
       "1     rahuk  21.0  bang\n",
       "2     rahuk  34.0   NaN"
      ]
     },
     "execution_count": 25,
     "metadata": {},
     "output_type": "execute_result"
    }
   ],
   "source": [
    " d1.fillna(method='backfill')"
   ]
  },
  {
   "cell_type": "markdown",
   "id": "07d96817-a570-4048-a056-139a5f0942ce",
   "metadata": {},
   "source": [
    "# pad and ffill are same"
   ]
  },
  {
   "cell_type": "code",
   "execution_count": 26,
   "id": "9310d099-4f55-446f-8303-5c05200d5e5d",
   "metadata": {},
   "outputs": [
    {
     "name": "stderr",
     "output_type": "stream",
     "text": [
      "/var/folders/24/8tn3hq_n69b3bh_npr321plm0000gn/T/ipykernel_56552/3282249208.py:1: FutureWarning: DataFrame.fillna with 'method' is deprecated and will raise in a future version. Use obj.ffill() or obj.bfill() instead.\n",
      "  d1.fillna(method='pad')\n"
     ]
    },
    {
     "data": {
      "text/html": [
       "<div>\n",
       "<style scoped>\n",
       "    .dataframe tbody tr th:only-of-type {\n",
       "        vertical-align: middle;\n",
       "    }\n",
       "\n",
       "    .dataframe tbody tr th {\n",
       "        vertical-align: top;\n",
       "    }\n",
       "\n",
       "    .dataframe thead th {\n",
       "        text-align: right;\n",
       "    }\n",
       "</style>\n",
       "<table border=\"1\" class=\"dataframe\">\n",
       "  <thead>\n",
       "    <tr style=\"text-align: right;\">\n",
       "      <th></th>\n",
       "      <th>names</th>\n",
       "      <th>age</th>\n",
       "      <th>city</th>\n",
       "    </tr>\n",
       "  </thead>\n",
       "  <tbody>\n",
       "    <tr>\n",
       "      <th>0</th>\n",
       "      <td>shashank</td>\n",
       "      <td>NaN</td>\n",
       "      <td>hyd</td>\n",
       "    </tr>\n",
       "    <tr>\n",
       "      <th>1</th>\n",
       "      <td>shashank</td>\n",
       "      <td>21.0</td>\n",
       "      <td>bang</td>\n",
       "    </tr>\n",
       "    <tr>\n",
       "      <th>2</th>\n",
       "      <td>rahuk</td>\n",
       "      <td>34.0</td>\n",
       "      <td>bang</td>\n",
       "    </tr>\n",
       "  </tbody>\n",
       "</table>\n",
       "</div>"
      ],
      "text/plain": [
       "      names   age  city\n",
       "0  shashank   NaN   hyd\n",
       "1  shashank  21.0  bang\n",
       "2     rahuk  34.0  bang"
      ]
     },
     "execution_count": 26,
     "metadata": {},
     "output_type": "execute_result"
    }
   ],
   "source": [
    "d1.fillna(method='pad')"
   ]
  },
  {
   "cell_type": "code",
   "execution_count": 27,
   "id": "2ffff8d3-4aa4-4eab-b842-be714ba6ddde",
   "metadata": {},
   "outputs": [
    {
     "name": "stderr",
     "output_type": "stream",
     "text": [
      "/var/folders/24/8tn3hq_n69b3bh_npr321plm0000gn/T/ipykernel_56552/4088926743.py:1: FutureWarning: DataFrame.fillna with 'method' is deprecated and will raise in a future version. Use obj.ffill() or obj.bfill() instead.\n",
      "  d1.fillna(method='ffill')\n"
     ]
    },
    {
     "data": {
      "text/html": [
       "<div>\n",
       "<style scoped>\n",
       "    .dataframe tbody tr th:only-of-type {\n",
       "        vertical-align: middle;\n",
       "    }\n",
       "\n",
       "    .dataframe tbody tr th {\n",
       "        vertical-align: top;\n",
       "    }\n",
       "\n",
       "    .dataframe thead th {\n",
       "        text-align: right;\n",
       "    }\n",
       "</style>\n",
       "<table border=\"1\" class=\"dataframe\">\n",
       "  <thead>\n",
       "    <tr style=\"text-align: right;\">\n",
       "      <th></th>\n",
       "      <th>names</th>\n",
       "      <th>age</th>\n",
       "      <th>city</th>\n",
       "    </tr>\n",
       "  </thead>\n",
       "  <tbody>\n",
       "    <tr>\n",
       "      <th>0</th>\n",
       "      <td>shashank</td>\n",
       "      <td>NaN</td>\n",
       "      <td>hyd</td>\n",
       "    </tr>\n",
       "    <tr>\n",
       "      <th>1</th>\n",
       "      <td>shashank</td>\n",
       "      <td>21.0</td>\n",
       "      <td>bang</td>\n",
       "    </tr>\n",
       "    <tr>\n",
       "      <th>2</th>\n",
       "      <td>rahuk</td>\n",
       "      <td>34.0</td>\n",
       "      <td>bang</td>\n",
       "    </tr>\n",
       "  </tbody>\n",
       "</table>\n",
       "</div>"
      ],
      "text/plain": [
       "      names   age  city\n",
       "0  shashank   NaN   hyd\n",
       "1  shashank  21.0  bang\n",
       "2     rahuk  34.0  bang"
      ]
     },
     "execution_count": 27,
     "metadata": {},
     "output_type": "execute_result"
    }
   ],
   "source": [
    "d1.fillna(method='ffill')"
   ]
  },
  {
   "cell_type": "markdown",
   "id": "9402e669-7f6e-42fd-ad14-ffc81799b1d6",
   "metadata": {},
   "source": [
    "**Method-4**\n",
    "\n",
    "- mean\n",
    "\n",
    "    - Numerical values can fill with mean value\n",
    "\n",
    "    - but mean affect by outliers\n",
    "\n",
    "    - if we dont have outliers it is best one\n",
    "\n",
    "- medain \n",
    "\n",
    "    - Numerical values can fill with median value\n",
    "\n",
    "    - we know that median value does not affect with outliers\n",
    "\n",
    "    - so if outliers are there we can go with median\n",
    "\n",
    "- mode\n",
    "\n",
    "    - Mode is useful for categorical data"
   ]
  },
  {
   "cell_type": "code",
   "execution_count": 29,
   "id": "0344d248-5612-48bd-bccf-7dd866c51963",
   "metadata": {},
   "outputs": [],
   "source": [
    "dict1={'names':[\"shashank\",np.nan,\"rahuk\"],\n",
    "        'age':[np.nan,21,34],\n",
    "        'city':[\"hyd\",'bang',np.nan]\n",
    "}\n",
    "d1=pd.DataFrame(dict1)"
   ]
  },
  {
   "cell_type": "code",
   "execution_count": 30,
   "id": "98fad42e-67ba-42e5-95b9-012373010da1",
   "metadata": {},
   "outputs": [],
   "source": [
    "agemean=d1['age'].mean()"
   ]
  },
  {
   "cell_type": "code",
   "execution_count": 33,
   "id": "fdb7e71f-e200-43b9-828d-38501e04be8b",
   "metadata": {},
   "outputs": [],
   "source": [
    "d1['age'].fillna(agemean,inplace=True)"
   ]
  },
  {
   "cell_type": "code",
   "execution_count": 34,
   "id": "25d1f61d-7a84-457b-ad68-6a0e41239db1",
   "metadata": {},
   "outputs": [
    {
     "data": {
      "text/html": [
       "<div>\n",
       "<style scoped>\n",
       "    .dataframe tbody tr th:only-of-type {\n",
       "        vertical-align: middle;\n",
       "    }\n",
       "\n",
       "    .dataframe tbody tr th {\n",
       "        vertical-align: top;\n",
       "    }\n",
       "\n",
       "    .dataframe thead th {\n",
       "        text-align: right;\n",
       "    }\n",
       "</style>\n",
       "<table border=\"1\" class=\"dataframe\">\n",
       "  <thead>\n",
       "    <tr style=\"text-align: right;\">\n",
       "      <th></th>\n",
       "      <th>names</th>\n",
       "      <th>age</th>\n",
       "      <th>city</th>\n",
       "    </tr>\n",
       "  </thead>\n",
       "  <tbody>\n",
       "    <tr>\n",
       "      <th>0</th>\n",
       "      <td>shashank</td>\n",
       "      <td>27.5</td>\n",
       "      <td>hyd</td>\n",
       "    </tr>\n",
       "    <tr>\n",
       "      <th>1</th>\n",
       "      <td>NaN</td>\n",
       "      <td>21.0</td>\n",
       "      <td>bang</td>\n",
       "    </tr>\n",
       "    <tr>\n",
       "      <th>2</th>\n",
       "      <td>rahuk</td>\n",
       "      <td>34.0</td>\n",
       "      <td>NaN</td>\n",
       "    </tr>\n",
       "  </tbody>\n",
       "</table>\n",
       "</div>"
      ],
      "text/plain": [
       "      names   age  city\n",
       "0  shashank  27.5   hyd\n",
       "1       NaN  21.0  bang\n",
       "2     rahuk  34.0   NaN"
      ]
     },
     "execution_count": 34,
     "metadata": {},
     "output_type": "execute_result"
    }
   ],
   "source": [
    "d1"
   ]
  },
  {
   "cell_type": "markdown",
   "id": "a7103049-3f8f-4f00-ad67-fc5e622f3d78",
   "metadata": {},
   "source": [
    "**Method-5**\n",
    "\n",
    "**KNN imputer**\n",
    "\n",
    "- KNN: K neartest Neighbours\n",
    "\n",
    "- K is a hyper paramter means user can choose\n",
    "\n",
    "- It is distance metric: **Euclidian distance**\n",
    "\n",
    "- KNN imputer will take the mean of the neigbours value\n",
    "\n",
    "- The neibhours value can provided by using  value =k\n",
    "\n",
    "- It is under sklearn package\n",
    "\n",
    "- Under sklearn we have Imputer method\n",
    "\n",
    "- Under imputer method we have KnnImputer\n",
    "\n",
    "- Applicable only for Numerical data"
   ]
  },
  {
   "cell_type": "code",
   "execution_count": 36,
   "id": "e0edb0da-96e0-4a6b-8dac-251e681c7e1f",
   "metadata": {},
   "outputs": [
    {
     "data": {
      "text/plain": [
       "array([[27.5],\n",
       "       [21. ],\n",
       "       [34. ]])"
      ]
     },
     "execution_count": 36,
     "metadata": {},
     "output_type": "execute_result"
    }
   ],
   "source": [
    "from sklearn.impute import KNNImputer\n",
    "KI=KNNImputer()\n",
    "KI.fit_transform(d1[['age']])"
   ]
  },
  {
   "cell_type": "code",
   "execution_count": null,
   "id": "1869c01e-97f6-4ec9-89e2-3503d9d68061",
   "metadata": {},
   "outputs": [],
   "source": []
  }
 ],
 "metadata": {
  "kernelspec": {
   "display_name": "Python 3 (ipykernel)",
   "language": "python",
   "name": "python3"
  },
  "language_info": {
   "codemirror_mode": {
    "name": "ipython",
    "version": 3
   },
   "file_extension": ".py",
   "mimetype": "text/x-python",
   "name": "python",
   "nbconvert_exporter": "python",
   "pygments_lexer": "ipython3",
   "version": "3.11.8"
  }
 },
 "nbformat": 4,
 "nbformat_minor": 5
}
