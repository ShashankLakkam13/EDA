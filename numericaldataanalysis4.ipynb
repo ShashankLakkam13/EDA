{
 "cells": [
  {
   "cell_type": "code",
   "execution_count": 1,
   "id": "6c5ab551-dee7-448f-abcf-af1d7d042c09",
   "metadata": {},
   "outputs": [],
   "source": [
    "import pandas as pd\n",
    "import numpy as np\n",
    "import matplotlib.pyplot as plt\n",
    "import seaborn as sns"
   ]
  },
  {
   "cell_type": "code",
   "execution_count": 2,
   "id": "590a5fda-268d-4dbd-8a2a-3d9a81351f3c",
   "metadata": {},
   "outputs": [],
   "source": [
    "visadata=pd.read_csv(\"/Users/shashankreddy/nareshit/Datafiles/Visadataset - Visadataset.csv\")"
   ]
  },
  {
   "cell_type": "code",
   "execution_count": 3,
   "id": "b0138123-57d3-4519-9c60-c579163d986b",
   "metadata": {},
   "outputs": [
    {
     "data": {
      "text/html": [
       "<div>\n",
       "<style scoped>\n",
       "    .dataframe tbody tr th:only-of-type {\n",
       "        vertical-align: middle;\n",
       "    }\n",
       "\n",
       "    .dataframe tbody tr th {\n",
       "        vertical-align: top;\n",
       "    }\n",
       "\n",
       "    .dataframe thead th {\n",
       "        text-align: right;\n",
       "    }\n",
       "</style>\n",
       "<table border=\"1\" class=\"dataframe\">\n",
       "  <thead>\n",
       "    <tr style=\"text-align: right;\">\n",
       "      <th></th>\n",
       "      <th>case_id</th>\n",
       "      <th>continent</th>\n",
       "      <th>education_of_employee</th>\n",
       "      <th>has_job_experience</th>\n",
       "      <th>requires_job_training</th>\n",
       "      <th>no_of_employees</th>\n",
       "      <th>yr_of_estab</th>\n",
       "      <th>region_of_employment</th>\n",
       "      <th>prevailing_wage</th>\n",
       "      <th>unit_of_wage</th>\n",
       "      <th>full_time_position</th>\n",
       "      <th>case_status</th>\n",
       "    </tr>\n",
       "  </thead>\n",
       "  <tbody>\n",
       "    <tr>\n",
       "      <th>0</th>\n",
       "      <td>EZYV01</td>\n",
       "      <td>Asia</td>\n",
       "      <td>High School</td>\n",
       "      <td>N</td>\n",
       "      <td>N</td>\n",
       "      <td>14513</td>\n",
       "      <td>2007</td>\n",
       "      <td>West</td>\n",
       "      <td>592.2029</td>\n",
       "      <td>Hour</td>\n",
       "      <td>Y</td>\n",
       "      <td>Denied</td>\n",
       "    </tr>\n",
       "    <tr>\n",
       "      <th>1</th>\n",
       "      <td>EZYV02</td>\n",
       "      <td>Asia</td>\n",
       "      <td>Master's</td>\n",
       "      <td>Y</td>\n",
       "      <td>N</td>\n",
       "      <td>2412</td>\n",
       "      <td>2002</td>\n",
       "      <td>Northeast</td>\n",
       "      <td>83425.6500</td>\n",
       "      <td>Year</td>\n",
       "      <td>Y</td>\n",
       "      <td>Certified</td>\n",
       "    </tr>\n",
       "    <tr>\n",
       "      <th>2</th>\n",
       "      <td>EZYV03</td>\n",
       "      <td>Asia</td>\n",
       "      <td>Bachelor's</td>\n",
       "      <td>N</td>\n",
       "      <td>Y</td>\n",
       "      <td>44444</td>\n",
       "      <td>2008</td>\n",
       "      <td>West</td>\n",
       "      <td>122996.8600</td>\n",
       "      <td>Year</td>\n",
       "      <td>Y</td>\n",
       "      <td>Denied</td>\n",
       "    </tr>\n",
       "    <tr>\n",
       "      <th>3</th>\n",
       "      <td>EZYV04</td>\n",
       "      <td>Asia</td>\n",
       "      <td>Bachelor's</td>\n",
       "      <td>N</td>\n",
       "      <td>N</td>\n",
       "      <td>98</td>\n",
       "      <td>1897</td>\n",
       "      <td>West</td>\n",
       "      <td>83434.0300</td>\n",
       "      <td>Year</td>\n",
       "      <td>Y</td>\n",
       "      <td>Denied</td>\n",
       "    </tr>\n",
       "    <tr>\n",
       "      <th>4</th>\n",
       "      <td>EZYV05</td>\n",
       "      <td>Africa</td>\n",
       "      <td>Master's</td>\n",
       "      <td>Y</td>\n",
       "      <td>N</td>\n",
       "      <td>1082</td>\n",
       "      <td>2005</td>\n",
       "      <td>South</td>\n",
       "      <td>149907.3900</td>\n",
       "      <td>Year</td>\n",
       "      <td>Y</td>\n",
       "      <td>Certified</td>\n",
       "    </tr>\n",
       "  </tbody>\n",
       "</table>\n",
       "</div>"
      ],
      "text/plain": [
       "  case_id continent education_of_employee has_job_experience  \\\n",
       "0  EZYV01      Asia           High School                  N   \n",
       "1  EZYV02      Asia              Master's                  Y   \n",
       "2  EZYV03      Asia            Bachelor's                  N   \n",
       "3  EZYV04      Asia            Bachelor's                  N   \n",
       "4  EZYV05    Africa              Master's                  Y   \n",
       "\n",
       "  requires_job_training  no_of_employees  yr_of_estab region_of_employment  \\\n",
       "0                     N            14513         2007                 West   \n",
       "1                     N             2412         2002            Northeast   \n",
       "2                     Y            44444         2008                 West   \n",
       "3                     N               98         1897                 West   \n",
       "4                     N             1082         2005                South   \n",
       "\n",
       "   prevailing_wage unit_of_wage full_time_position case_status  \n",
       "0         592.2029         Hour                  Y      Denied  \n",
       "1       83425.6500         Year                  Y   Certified  \n",
       "2      122996.8600         Year                  Y      Denied  \n",
       "3       83434.0300         Year                  Y      Denied  \n",
       "4      149907.3900         Year                  Y   Certified  "
      ]
     },
     "execution_count": 3,
     "metadata": {},
     "output_type": "execute_result"
    }
   ],
   "source": [
    "visadata.head()"
   ]
  },
  {
   "cell_type": "code",
   "execution_count": 4,
   "id": "67708b55-6a81-4b44-88c8-b02df4dfdb17",
   "metadata": {},
   "outputs": [
    {
     "data": {
      "text/html": [
       "<div>\n",
       "<style scoped>\n",
       "    .dataframe tbody tr th:only-of-type {\n",
       "        vertical-align: middle;\n",
       "    }\n",
       "\n",
       "    .dataframe tbody tr th {\n",
       "        vertical-align: top;\n",
       "    }\n",
       "\n",
       "    .dataframe thead th {\n",
       "        text-align: right;\n",
       "    }\n",
       "</style>\n",
       "<table border=\"1\" class=\"dataframe\">\n",
       "  <thead>\n",
       "    <tr style=\"text-align: right;\">\n",
       "      <th></th>\n",
       "      <th>case_id</th>\n",
       "      <th>continent</th>\n",
       "      <th>education_of_employee</th>\n",
       "      <th>has_job_experience</th>\n",
       "      <th>requires_job_training</th>\n",
       "      <th>no_of_employees</th>\n",
       "      <th>yr_of_estab</th>\n",
       "      <th>region_of_employment</th>\n",
       "      <th>prevailing_wage</th>\n",
       "      <th>unit_of_wage</th>\n",
       "      <th>full_time_position</th>\n",
       "      <th>case_status</th>\n",
       "    </tr>\n",
       "  </thead>\n",
       "  <tbody>\n",
       "    <tr>\n",
       "      <th>25475</th>\n",
       "      <td>EZYV25476</td>\n",
       "      <td>Asia</td>\n",
       "      <td>Bachelor's</td>\n",
       "      <td>Y</td>\n",
       "      <td>Y</td>\n",
       "      <td>2601</td>\n",
       "      <td>2008</td>\n",
       "      <td>South</td>\n",
       "      <td>77092.57</td>\n",
       "      <td>Year</td>\n",
       "      <td>Y</td>\n",
       "      <td>Certified</td>\n",
       "    </tr>\n",
       "    <tr>\n",
       "      <th>25476</th>\n",
       "      <td>EZYV25477</td>\n",
       "      <td>Asia</td>\n",
       "      <td>High School</td>\n",
       "      <td>Y</td>\n",
       "      <td>N</td>\n",
       "      <td>3274</td>\n",
       "      <td>2006</td>\n",
       "      <td>Northeast</td>\n",
       "      <td>279174.79</td>\n",
       "      <td>Year</td>\n",
       "      <td>Y</td>\n",
       "      <td>Certified</td>\n",
       "    </tr>\n",
       "    <tr>\n",
       "      <th>25477</th>\n",
       "      <td>EZYV25478</td>\n",
       "      <td>Asia</td>\n",
       "      <td>Master's</td>\n",
       "      <td>Y</td>\n",
       "      <td>N</td>\n",
       "      <td>1121</td>\n",
       "      <td>1910</td>\n",
       "      <td>South</td>\n",
       "      <td>146298.85</td>\n",
       "      <td>Year</td>\n",
       "      <td>N</td>\n",
       "      <td>Certified</td>\n",
       "    </tr>\n",
       "    <tr>\n",
       "      <th>25478</th>\n",
       "      <td>EZYV25479</td>\n",
       "      <td>Asia</td>\n",
       "      <td>Master's</td>\n",
       "      <td>Y</td>\n",
       "      <td>Y</td>\n",
       "      <td>1918</td>\n",
       "      <td>1887</td>\n",
       "      <td>West</td>\n",
       "      <td>86154.77</td>\n",
       "      <td>Year</td>\n",
       "      <td>Y</td>\n",
       "      <td>Certified</td>\n",
       "    </tr>\n",
       "    <tr>\n",
       "      <th>25479</th>\n",
       "      <td>EZYV25480</td>\n",
       "      <td>Asia</td>\n",
       "      <td>Bachelor's</td>\n",
       "      <td>Y</td>\n",
       "      <td>N</td>\n",
       "      <td>3195</td>\n",
       "      <td>1960</td>\n",
       "      <td>Midwest</td>\n",
       "      <td>70876.91</td>\n",
       "      <td>Year</td>\n",
       "      <td>Y</td>\n",
       "      <td>Certified</td>\n",
       "    </tr>\n",
       "  </tbody>\n",
       "</table>\n",
       "</div>"
      ],
      "text/plain": [
       "         case_id continent education_of_employee has_job_experience  \\\n",
       "25475  EZYV25476      Asia            Bachelor's                  Y   \n",
       "25476  EZYV25477      Asia           High School                  Y   \n",
       "25477  EZYV25478      Asia              Master's                  Y   \n",
       "25478  EZYV25479      Asia              Master's                  Y   \n",
       "25479  EZYV25480      Asia            Bachelor's                  Y   \n",
       "\n",
       "      requires_job_training  no_of_employees  yr_of_estab  \\\n",
       "25475                     Y             2601         2008   \n",
       "25476                     N             3274         2006   \n",
       "25477                     N             1121         1910   \n",
       "25478                     Y             1918         1887   \n",
       "25479                     N             3195         1960   \n",
       "\n",
       "      region_of_employment  prevailing_wage unit_of_wage full_time_position  \\\n",
       "25475                South         77092.57         Year                  Y   \n",
       "25476            Northeast        279174.79         Year                  Y   \n",
       "25477                South        146298.85         Year                  N   \n",
       "25478                 West         86154.77         Year                  Y   \n",
       "25479              Midwest         70876.91         Year                  Y   \n",
       "\n",
       "      case_status  \n",
       "25475   Certified  \n",
       "25476   Certified  \n",
       "25477   Certified  \n",
       "25478   Certified  \n",
       "25479   Certified  "
      ]
     },
     "execution_count": 4,
     "metadata": {},
     "output_type": "execute_result"
    }
   ],
   "source": [
    "visadata.tail()"
   ]
  },
  {
   "cell_type": "code",
   "execution_count": 5,
   "id": "ff97586e-705e-4602-a5f0-ca7099b78bd6",
   "metadata": {},
   "outputs": [],
   "source": [
    "datatypes=visadata.dtypes"
   ]
  },
  {
   "cell_type": "code",
   "execution_count": 6,
   "id": "1a3fb379-7ed1-4bf0-9cb2-990e9c6c55d7",
   "metadata": {},
   "outputs": [
    {
     "data": {
      "text/plain": [
       "case_id                   object\n",
       "continent                 object\n",
       "education_of_employee     object\n",
       "has_job_experience        object\n",
       "requires_job_training     object\n",
       "no_of_employees            int64\n",
       "yr_of_estab                int64\n",
       "region_of_employment      object\n",
       "prevailing_wage          float64\n",
       "unit_of_wage              object\n",
       "full_time_position        object\n",
       "case_status               object\n",
       "dtype: object"
      ]
     },
     "execution_count": 6,
     "metadata": {},
     "output_type": "execute_result"
    }
   ],
   "source": [
    "datatypes"
   ]
  },
  {
   "cell_type": "code",
   "execution_count": 7,
   "id": "0552fc9c-55ce-4175-8473-3c09bdf12cc5",
   "metadata": {},
   "outputs": [
    {
     "data": {
      "text/plain": [
       "pandas.core.series.Series"
      ]
     },
     "execution_count": 7,
     "metadata": {},
     "output_type": "execute_result"
    }
   ],
   "source": [
    "type(datatypes)"
   ]
  },
  {
   "cell_type": "code",
   "execution_count": 8,
   "id": "0eb4a29f-79b2-4a3f-b598-0db8ae5a399e",
   "metadata": {},
   "outputs": [
    {
     "data": {
      "text/plain": [
       "{'case_id': dtype('O'),\n",
       " 'continent': dtype('O'),\n",
       " 'education_of_employee': dtype('O'),\n",
       " 'has_job_experience': dtype('O'),\n",
       " 'requires_job_training': dtype('O'),\n",
       " 'no_of_employees': dtype('int64'),\n",
       " 'yr_of_estab': dtype('int64'),\n",
       " 'region_of_employment': dtype('O'),\n",
       " 'prevailing_wage': dtype('float64'),\n",
       " 'unit_of_wage': dtype('O'),\n",
       " 'full_time_position': dtype('O'),\n",
       " 'case_status': dtype('O')}"
      ]
     },
     "execution_count": 8,
     "metadata": {},
     "output_type": "execute_result"
    }
   ],
   "source": [
    "dict(datatypes)"
   ]
  },
  {
   "cell_type": "code",
   "execution_count": 9,
   "id": "2ddd88b8-e649-45f1-95a4-d5562a19477d",
   "metadata": {},
   "outputs": [
    {
     "data": {
      "text/plain": [
       "case_id    continent      education_of_employee  has_job_experience  requires_job_training  no_of_employees  yr_of_estab  region_of_employment  prevailing_wage  unit_of_wage  full_time_position  case_status\n",
       "EZYV01     Asia           High School            N                   N                      14513            2007         West                  592.2029         Hour          Y                   Denied         1\n",
       "EZYV25287  Europe         Doctorate              Y                   N                      2705             1986         South                 3795.0500        Year          Y                   Certified      1\n",
       "EZYV25285  Asia           Bachelor's             N                   N                      2526             1962         West                  29596.5400       Year          Y                   Denied         1\n",
       "EZYV25284  Asia           Master's               N                   N                      10762            2005         West                  110106.1900      Year          N                   Denied         1\n",
       "EZYV25283  South America  High School            Y                   N                      2145             1996         South                 13590.3900       Year          Y                   Denied         1\n",
       "                                                                                                                                                                                                                 ..\n",
       "EZYV17633  Europe         Doctorate              Y                   N                      3658             2012         Northeast             45679.2700       Year          Y                   Certified      1\n",
       "EZYV17632  Asia           Bachelor's             N                   N                      3720             1858         West                  64994.9300       Year          Y                   Certified      1\n",
       "EZYV17631  Asia           Bachelor's             Y                   N                      628              1972         West                  94057.9900       Year          Y                   Denied         1\n",
       "EZYV17630  North America  Bachelor's             Y                   N                      2827             2004         Midwest               11686.8400       Year          Y                   Denied         1\n",
       "EZYV9999   North America  High School            N                   N                      1711             2006         Northeast             116.3800         Hour          Y                   Denied         1\n",
       "Name: count, Length: 25480, dtype: int64"
      ]
     },
     "execution_count": 9,
     "metadata": {},
     "output_type": "execute_result"
    }
   ],
   "source": [
    "visadata.value_counts()"
   ]
  },
  {
   "cell_type": "code",
   "execution_count": 10,
   "id": "baae3a18-7ad6-4b40-a6b8-978ac16e7948",
   "metadata": {},
   "outputs": [
    {
     "data": {
      "text/html": [
       "<div>\n",
       "<style scoped>\n",
       "    .dataframe tbody tr th:only-of-type {\n",
       "        vertical-align: middle;\n",
       "    }\n",
       "\n",
       "    .dataframe tbody tr th {\n",
       "        vertical-align: top;\n",
       "    }\n",
       "\n",
       "    .dataframe thead th {\n",
       "        text-align: right;\n",
       "    }\n",
       "</style>\n",
       "<table border=\"1\" class=\"dataframe\">\n",
       "  <thead>\n",
       "    <tr style=\"text-align: right;\">\n",
       "      <th></th>\n",
       "      <th>no_of_employees</th>\n",
       "      <th>yr_of_estab</th>\n",
       "      <th>prevailing_wage</th>\n",
       "    </tr>\n",
       "  </thead>\n",
       "  <tbody>\n",
       "    <tr>\n",
       "      <th>0</th>\n",
       "      <td>14513</td>\n",
       "      <td>2007</td>\n",
       "      <td>592.2029</td>\n",
       "    </tr>\n",
       "    <tr>\n",
       "      <th>1</th>\n",
       "      <td>2412</td>\n",
       "      <td>2002</td>\n",
       "      <td>83425.6500</td>\n",
       "    </tr>\n",
       "    <tr>\n",
       "      <th>2</th>\n",
       "      <td>44444</td>\n",
       "      <td>2008</td>\n",
       "      <td>122996.8600</td>\n",
       "    </tr>\n",
       "    <tr>\n",
       "      <th>3</th>\n",
       "      <td>98</td>\n",
       "      <td>1897</td>\n",
       "      <td>83434.0300</td>\n",
       "    </tr>\n",
       "    <tr>\n",
       "      <th>4</th>\n",
       "      <td>1082</td>\n",
       "      <td>2005</td>\n",
       "      <td>149907.3900</td>\n",
       "    </tr>\n",
       "    <tr>\n",
       "      <th>...</th>\n",
       "      <td>...</td>\n",
       "      <td>...</td>\n",
       "      <td>...</td>\n",
       "    </tr>\n",
       "    <tr>\n",
       "      <th>25475</th>\n",
       "      <td>2601</td>\n",
       "      <td>2008</td>\n",
       "      <td>77092.5700</td>\n",
       "    </tr>\n",
       "    <tr>\n",
       "      <th>25476</th>\n",
       "      <td>3274</td>\n",
       "      <td>2006</td>\n",
       "      <td>279174.7900</td>\n",
       "    </tr>\n",
       "    <tr>\n",
       "      <th>25477</th>\n",
       "      <td>1121</td>\n",
       "      <td>1910</td>\n",
       "      <td>146298.8500</td>\n",
       "    </tr>\n",
       "    <tr>\n",
       "      <th>25478</th>\n",
       "      <td>1918</td>\n",
       "      <td>1887</td>\n",
       "      <td>86154.7700</td>\n",
       "    </tr>\n",
       "    <tr>\n",
       "      <th>25479</th>\n",
       "      <td>3195</td>\n",
       "      <td>1960</td>\n",
       "      <td>70876.9100</td>\n",
       "    </tr>\n",
       "  </tbody>\n",
       "</table>\n",
       "<p>25480 rows × 3 columns</p>\n",
       "</div>"
      ],
      "text/plain": [
       "       no_of_employees  yr_of_estab  prevailing_wage\n",
       "0                14513         2007         592.2029\n",
       "1                 2412         2002       83425.6500\n",
       "2                44444         2008      122996.8600\n",
       "3                   98         1897       83434.0300\n",
       "4                 1082         2005      149907.3900\n",
       "...                ...          ...              ...\n",
       "25475             2601         2008       77092.5700\n",
       "25476             3274         2006      279174.7900\n",
       "25477             1121         1910      146298.8500\n",
       "25478             1918         1887       86154.7700\n",
       "25479             3195         1960       70876.9100\n",
       "\n",
       "[25480 rows x 3 columns]"
      ]
     },
     "execution_count": 10,
     "metadata": {},
     "output_type": "execute_result"
    }
   ],
   "source": [
    "visadata.select_dtypes(exclude=\"object\")"
   ]
  },
  {
   "cell_type": "code",
   "execution_count": 11,
   "id": "097f5afe-e62f-4539-a4dc-90c3b9e7165d",
   "metadata": {},
   "outputs": [
    {
     "data": {
      "text/plain": [
       "Index(['no_of_employees', 'yr_of_estab', 'prevailing_wage'], dtype='object')"
      ]
     },
     "execution_count": 11,
     "metadata": {},
     "output_type": "execute_result"
    }
   ],
   "source": [
    "visadata.select_dtypes(exclude=\"object\").columns"
   ]
  },
  {
   "cell_type": "markdown",
   "id": "dd225ad1-ded7-4396-b419-4e02b1698ecb",
   "metadata": {},
   "source": [
    "# we will work on prevailing_wage\n",
    "\n",
    "\n",
    "work on pandas like dictionaries\n",
    "\n",
    "\n",
    "len\n",
    "\n",
    "\n",
    "min\n",
    "\n",
    "\n",
    "max\n",
    "\n",
    "\n",
    "mean\n",
    "\n",
    "\n",
    "standarddevation\n"
   ]
  },
  {
   "cell_type": "code",
   "execution_count": 12,
   "id": "1ab9c0af-dced-4973-b29e-982152204cf0",
   "metadata": {},
   "outputs": [
    {
     "data": {
      "text/plain": [
       "25480"
      ]
     },
     "execution_count": 12,
     "metadata": {},
     "output_type": "execute_result"
    }
   ],
   "source": [
    "len(visadata[\"prevailing_wage\"])"
   ]
  },
  {
   "cell_type": "code",
   "execution_count": 13,
   "id": "650e7918-feaf-4824-b7eb-026d31aa4072",
   "metadata": {},
   "outputs": [
    {
     "data": {
      "text/plain": [
       "2.1367"
      ]
     },
     "execution_count": 13,
     "metadata": {},
     "output_type": "execute_result"
    }
   ],
   "source": [
    "min(visadata[\"prevailing_wage\"])"
   ]
  },
  {
   "cell_type": "code",
   "execution_count": 14,
   "id": "687264cd-3891-498b-93c0-2fdd5cb6515e",
   "metadata": {},
   "outputs": [
    {
     "data": {
      "text/plain": [
       "2.1367"
      ]
     },
     "execution_count": 14,
     "metadata": {},
     "output_type": "execute_result"
    }
   ],
   "source": [
    "#using pandas\n",
    "visadata[\"prevailing_wage\"].min()"
   ]
  },
  {
   "cell_type": "code",
   "execution_count": 15,
   "id": "510a620e-3a8a-4b96-a2b4-f2162b93763f",
   "metadata": {},
   "outputs": [
    {
     "data": {
      "text/plain": [
       "2.1367"
      ]
     },
     "execution_count": 15,
     "metadata": {},
     "output_type": "execute_result"
    }
   ],
   "source": [
    "#using numpy\n",
    "np.min(visadata[\"prevailing_wage\"])"
   ]
  },
  {
   "cell_type": "code",
   "execution_count": 16,
   "id": "83815b24-6003-467e-96d9-b2920ac4994e",
   "metadata": {},
   "outputs": [
    {
     "data": {
      "text/plain": [
       "319210.27"
      ]
     },
     "execution_count": 16,
     "metadata": {},
     "output_type": "execute_result"
    }
   ],
   "source": [
    "max(visadata[\"prevailing_wage\"])"
   ]
  },
  {
   "cell_type": "code",
   "execution_count": 17,
   "id": "0be6a510-cd24-4e63-9ece-06b463813e39",
   "metadata": {},
   "outputs": [
    {
     "data": {
      "text/plain": [
       "319210.27"
      ]
     },
     "execution_count": 17,
     "metadata": {},
     "output_type": "execute_result"
    }
   ],
   "source": [
    "#using pandas\n",
    "visadata[\"prevailing_wage\"].max()"
   ]
  },
  {
   "cell_type": "code",
   "execution_count": 18,
   "id": "e423f4b6-80a4-4f98-817e-31fd12384525",
   "metadata": {},
   "outputs": [
    {
     "data": {
      "text/plain": [
       "319210.27"
      ]
     },
     "execution_count": 18,
     "metadata": {},
     "output_type": "execute_result"
    }
   ],
   "source": [
    "#using numpy\n",
    "np.max(visadata[\"prevailing_wage\"])"
   ]
  },
  {
   "cell_type": "markdown",
   "id": "9e7cf7b6-24c6-4e08-991e-636f1879a02e",
   "metadata": {},
   "source": [
    "# mean"
   ]
  },
  {
   "cell_type": "code",
   "execution_count": 19,
   "id": "20f3053c-8688-4837-ab66-9d1e44c98bd7",
   "metadata": {},
   "outputs": [
    {
     "data": {
      "text/plain": [
       "74455.81459209183"
      ]
     },
     "execution_count": 19,
     "metadata": {},
     "output_type": "execute_result"
    }
   ],
   "source": [
    "#using pandas\n",
    "visadata[\"prevailing_wage\"].mean()"
   ]
  },
  {
   "cell_type": "code",
   "execution_count": 20,
   "id": "cfe1ebe5-f1c5-4969-968d-a2e6d5870ac9",
   "metadata": {},
   "outputs": [
    {
     "data": {
      "text/plain": [
       "74455.81459209183"
      ]
     },
     "execution_count": 20,
     "metadata": {},
     "output_type": "execute_result"
    }
   ],
   "source": [
    "#using numpy\n",
    "np.mean(visadata[\"prevailing_wage\"])"
   ]
  },
  {
   "cell_type": "markdown",
   "id": "6dc5a554-e395-4c53-9d18-3b47d5701595",
   "metadata": {},
   "source": [
    "# median"
   ]
  },
  {
   "cell_type": "code",
   "execution_count": 21,
   "id": "bc706129-6a17-44c3-826b-a6741b5f3883",
   "metadata": {},
   "outputs": [
    {
     "data": {
      "text/plain": [
       "70308.20999999999"
      ]
     },
     "execution_count": 21,
     "metadata": {},
     "output_type": "execute_result"
    }
   ],
   "source": [
    "#using pandas\n",
    "visadata[\"prevailing_wage\"].median()"
   ]
  },
  {
   "cell_type": "code",
   "execution_count": 22,
   "id": "1ae1aa77-6dcd-4690-8f90-af22cf27d225",
   "metadata": {},
   "outputs": [
    {
     "data": {
      "text/plain": [
       "70308.20999999999"
      ]
     },
     "execution_count": 22,
     "metadata": {},
     "output_type": "execute_result"
    }
   ],
   "source": [
    "#using numpy\n",
    "np.median(visadata[\"prevailing_wage\"])"
   ]
  },
  {
   "cell_type": "markdown",
   "id": "ea11c03c-7d6c-495e-9e7c-ced316c422bf",
   "metadata": {},
   "source": [
    "# standard Deviation"
   ]
  },
  {
   "cell_type": "code",
   "execution_count": 23,
   "id": "ce6d65b5-6567-4544-83bb-762415ccf2e3",
   "metadata": {},
   "outputs": [
    {
     "data": {
      "text/plain": [
       "52815.94232687357"
      ]
     },
     "execution_count": 23,
     "metadata": {},
     "output_type": "execute_result"
    }
   ],
   "source": [
    "#using pandas\n",
    "visadata[\"prevailing_wage\"].std()"
   ]
  },
  {
   "cell_type": "code",
   "execution_count": 24,
   "id": "43436bff-e225-41c2-ae1a-962d816954bb",
   "metadata": {},
   "outputs": [
    {
     "data": {
      "text/plain": [
       "52814.90589711402"
      ]
     },
     "execution_count": 24,
     "metadata": {},
     "output_type": "execute_result"
    }
   ],
   "source": [
    "#using numpy\n",
    "np.std(visadata[\"prevailing_wage\"])"
   ]
  },
  {
   "cell_type": "code",
   "execution_count": 25,
   "id": "1b131d2e-d659-4391-b03b-71e66c4f3742",
   "metadata": {},
   "outputs": [],
   "source": [
    "# all together\n",
    "list_values=[]\n",
    "\n",
    "wage_count=round(len(visadata[\"prevailing_wage\"]),2)\n",
    "list_values.append(wage_count)\n",
    "wage_min=round(visadata[\"prevailing_wage\"].min(),2)\n",
    "list_values.append(wage_min)\n",
    "wage_max=round(visadata[\"prevailing_wage\"].max(),2)\n",
    "list_values.append(wage_max)\n",
    "wage_mean=round(visadata[\"prevailing_wage\"].mean(),2)\n",
    "list_values.append(wage_mean)\n",
    "wage_median=round(visadata[\"prevailing_wage\"].median(),2)\n",
    "list_values.append(wage_median)\n",
    "wage_std=round(visadata[\"prevailing_wage\"].std(),2)\n",
    "list_values.append(wage_std)"
   ]
  },
  {
   "cell_type": "code",
   "execution_count": 26,
   "id": "28396f42-afa0-4d9b-9946-e770532f45c5",
   "metadata": {},
   "outputs": [],
   "source": [
    "Index_val=[\"count\",\"min\",\"max\",\"mean\",\"median\",\"std\"]"
   ]
  },
  {
   "cell_type": "code",
   "execution_count": 27,
   "id": "3579eabd-7b44-45f4-8778-86211ec3089b",
   "metadata": {},
   "outputs": [
    {
     "data": {
      "text/html": [
       "<div>\n",
       "<style scoped>\n",
       "    .dataframe tbody tr th:only-of-type {\n",
       "        vertical-align: middle;\n",
       "    }\n",
       "\n",
       "    .dataframe tbody tr th {\n",
       "        vertical-align: top;\n",
       "    }\n",
       "\n",
       "    .dataframe thead th {\n",
       "        text-align: right;\n",
       "    }\n",
       "</style>\n",
       "<table border=\"1\" class=\"dataframe\">\n",
       "  <thead>\n",
       "    <tr style=\"text-align: right;\">\n",
       "      <th></th>\n",
       "      <th>prevailing_wage</th>\n",
       "    </tr>\n",
       "  </thead>\n",
       "  <tbody>\n",
       "    <tr>\n",
       "      <th>count</th>\n",
       "      <td>25480.00</td>\n",
       "    </tr>\n",
       "    <tr>\n",
       "      <th>min</th>\n",
       "      <td>2.14</td>\n",
       "    </tr>\n",
       "    <tr>\n",
       "      <th>max</th>\n",
       "      <td>319210.27</td>\n",
       "    </tr>\n",
       "    <tr>\n",
       "      <th>mean</th>\n",
       "      <td>74455.81</td>\n",
       "    </tr>\n",
       "    <tr>\n",
       "      <th>median</th>\n",
       "      <td>70308.21</td>\n",
       "    </tr>\n",
       "    <tr>\n",
       "      <th>std</th>\n",
       "      <td>52815.94</td>\n",
       "    </tr>\n",
       "  </tbody>\n",
       "</table>\n",
       "</div>"
      ],
      "text/plain": [
       "        prevailing_wage\n",
       "count          25480.00\n",
       "min                2.14\n",
       "max           319210.27\n",
       "mean           74455.81\n",
       "median         70308.21\n",
       "std            52815.94"
      ]
     },
     "execution_count": 27,
     "metadata": {},
     "output_type": "execute_result"
    }
   ],
   "source": [
    "pd.DataFrame(list_values,index=Index_val,columns=[\"prevailing_wage\"])"
   ]
  },
  {
   "cell_type": "markdown",
   "id": "9d826092-af21-4ac4-94af-5fecaba9c003",
   "metadata": {},
   "source": [
    "# percentile \n",
    "\n",
    "# quartile\n",
    "\n",
    "percentile and quartile are present in numpy module"
   ]
  },
  {
   "cell_type": "markdown",
   "id": "db696cf3-3533-4cdf-b874-2c4405312004",
   "metadata": {},
   "source": [
    "np.percentile(\n",
    "    a,\n",
    "    q,\n",
    "    axis=None,\n",
    "    out=None,\n",
    "    overwrite_input=False,\n",
    "    method='linear',\n",
    "    keepdims=False,\n",
    "    *,\n",
    "    interpolation=None,\n",
    ")\n",
    "\n",
    "Parameters\n",
    "----------\n",
    "a : array_like of real numbers\n",
    "    Input array or object that can be converted to an array.\n",
    "q : array_like of float\n",
    "    Percentage or sequence of percentages for the percentiles to compute.\n",
    "    Values must be between 0 and 100 inclusive.\n",
    "\n",
    "\n"
   ]
  },
  {
   "cell_type": "code",
   "execution_count": 28,
   "id": "e3eff5e6-be88-4f57-8f58-8e6d885cef08",
   "metadata": {},
   "outputs": [
    {
     "ename": "SyntaxError",
     "evalue": "invalid syntax (4213362465.py, line 1)",
     "output_type": "error",
     "traceback": [
      "\u001b[0;36m  Cell \u001b[0;32mIn[28], line 1\u001b[0;36m\u001b[0m\n\u001b[0;31m    np.percentile() takes two arguments\u001b[0m\n\u001b[0m                    ^\u001b[0m\n\u001b[0;31mSyntaxError\u001b[0m\u001b[0;31m:\u001b[0m invalid syntax\n"
     ]
    }
   ],
   "source": [
    "np.percentile() takes two arguments\n",
    "===================================\n",
    "\n",
    "a,q\n",
    "\n",
    "a=values or data\n",
    "\n",
    "\n",
    "q=percentile it takes values from 0 to 100\n",
    "\n",
    "\n",
    "if we want 50 percentile we need to give q=50\n",
    "\n",
    "for quantile:\n",
    "=============\n",
    "np.quantile() takes two arguments\n",
    "\n",
    "a,q\n",
    "\n",
    "a=values or data\n",
    "\n",
    "\n",
    "q=percentile it takes values from 0 to 1\n",
    "\n",
    "\n",
    "\n",
    "if we want 50 percentile we need to give q=0.5"
   ]
  },
  {
   "cell_type": "code",
   "execution_count": 29,
   "id": "17527281-f6f4-41aa-881a-377ca191f457",
   "metadata": {},
   "outputs": [
    {
     "name": "stdout",
     "output_type": "stream",
     "text": [
      "the 25 % data is 34015.48\n",
      "the 50 % data is 70308.21\n",
      "the 75 % data is 107735.51\n"
     ]
    }
   ],
   "source": [
    "p25=round(np.percentile(visadata['prevailing_wage'],25),2)\n",
    "p50=round(np.percentile(visadata['prevailing_wage'],50),2)\n",
    "p75=round(np.percentile(visadata['prevailing_wage'],75),2)\n",
    "print(f\"the 25 % data is {p25}\")\n",
    "print(f\"the 50 % data is {p50}\")\n",
    "print(f\"the 75 % data is {p75}\")"
   ]
  },
  {
   "cell_type": "code",
   "execution_count": 30,
   "id": "76bc0cdf-6d0a-4afb-8531-c870b8506167",
   "metadata": {},
   "outputs": [
    {
     "data": {
      "text/plain": [
       "34015.48"
      ]
     },
     "execution_count": 30,
     "metadata": {},
     "output_type": "execute_result"
    }
   ],
   "source": [
    "p25"
   ]
  },
  {
   "cell_type": "markdown",
   "id": "636f434c-2945-46cc-9402-1ee2572f477f",
   "metadata": {},
   "source": [
    "np.quantile(\n",
    "    a,\n",
    "    q,\n",
    "    axis=None,\n",
    "    out=None,\n",
    "    overwrite_input=False,\n",
    "    method='linear',\n",
    "    keepdims=False,\n",
    "    *,\n",
    "    interpolation=None,\n",
    ")\n",
    "\n",
    "\n",
    "Parameters\n",
    "----------\n",
    "a : array_like of real numbers\n",
    "    Input array or object that can be converted to an array.\n",
    "q : array_like of float\n",
    "    Probability or sequence of probabilities for the quantiles to compute.\n",
    "    Values must be between 0 and 1 inclusive."
   ]
  },
  {
   "cell_type": "code",
   "execution_count": 31,
   "id": "64ee9fd9-acc0-4df5-aed3-b29bf78944ac",
   "metadata": {},
   "outputs": [
    {
     "name": "stdout",
     "output_type": "stream",
     "text": [
      "the 25 % data is 34015.48\n",
      "the 50 % data is 70308.21\n",
      "the 75 % data is 107735.51\n"
     ]
    }
   ],
   "source": [
    "q25=round(np.quantile(visadata['prevailing_wage'],0.25),2)\n",
    "q50=round(np.quantile(visadata['prevailing_wage'],0.50),2)\n",
    "q75=round(np.quantile(visadata['prevailing_wage'],0.75),2)\n",
    "print(f\"the 25 % data is {q25}\")\n",
    "print(f\"the 50 % data is {q50}\")\n",
    "print(f\"the 75 % data is {q75}\")"
   ]
  },
  {
   "cell_type": "markdown",
   "id": "9861631c-f236-4973-8e09-acb8aaac7f0c",
   "metadata": {},
   "source": [
    "#understanding 25 percentile\n",
    "\n",
    "- Understanding percentiles\n",
    "- Defination of 25 percentile\n",
    "  \n",
    "      - there are 25 percentile of people whose salary is less than 34015\n",
    "\n",
    "      -total people are 25480\n",
    "\n",
    "      -so 6370 employees salary is less than 34015\n",
    "  "
   ]
  },
  {
   "cell_type": "code",
   "execution_count": 32,
   "id": "8cdf666e-6d04-4745-88f4-439e46b459c2",
   "metadata": {},
   "outputs": [],
   "source": [
    "# so see this we need to do this \n",
    "\n",
    "# very important"
   ]
  },
  {
   "cell_type": "code",
   "execution_count": 33,
   "id": "04a10c35-0116-4b72-93ca-036321f398cd",
   "metadata": {},
   "outputs": [
    {
     "data": {
      "text/plain": [
       "0         True\n",
       "1        False\n",
       "2        False\n",
       "3        False\n",
       "4        False\n",
       "         ...  \n",
       "25475    False\n",
       "25476    False\n",
       "25477    False\n",
       "25478    False\n",
       "25479    False\n",
       "Name: prevailing_wage, Length: 25480, dtype: bool"
      ]
     },
     "execution_count": 33,
     "metadata": {},
     "output_type": "execute_result"
    }
   ],
   "source": [
    "visadata[\"prevailing_wage\"]<34015"
   ]
  },
  {
   "cell_type": "code",
   "execution_count": 34,
   "id": "51dce22b-6a0f-4240-9246-7b6ca3f49bde",
   "metadata": {},
   "outputs": [
    {
     "data": {
      "text/plain": [
       "6370"
      ]
     },
     "execution_count": 34,
     "metadata": {},
     "output_type": "execute_result"
    }
   ],
   "source": [
    "con=visadata[\"prevailing_wage\"]<34015\n",
    "len(visadata[con])"
   ]
  },
  {
   "cell_type": "code",
   "execution_count": 35,
   "id": "2907adac-b520-406e-8e9b-66e0eeac274b",
   "metadata": {},
   "outputs": [
    {
     "name": "stdout",
     "output_type": "stream",
     "text": [
      "the  number of people whose salary is less than 25 percentile that is less than 34015.48 is 6370\n"
     ]
    }
   ],
   "source": [
    "print(f\"the  number of people whose salary is less than 25 percentile that is less than {p25} is {len(visadata[con])}\")"
   ]
  },
  {
   "cell_type": "code",
   "execution_count": 36,
   "id": "2b77a8f3-64f5-4441-8c61-08fdd85fd104",
   "metadata": {},
   "outputs": [],
   "source": [
    "# for 50 percentile"
   ]
  },
  {
   "cell_type": "code",
   "execution_count": 37,
   "id": "ee479f9e-505c-4af5-984d-c43ddc1a2eb7",
   "metadata": {},
   "outputs": [
    {
     "data": {
      "text/plain": [
       "0         True\n",
       "1        False\n",
       "2        False\n",
       "3        False\n",
       "4        False\n",
       "         ...  \n",
       "25475    False\n",
       "25476    False\n",
       "25477    False\n",
       "25478    False\n",
       "25479    False\n",
       "Name: prevailing_wage, Length: 25480, dtype: bool"
      ]
     },
     "execution_count": 37,
     "metadata": {},
     "output_type": "execute_result"
    }
   ],
   "source": [
    "visadata[\"prevailing_wage\"]<70308.21"
   ]
  },
  {
   "cell_type": "code",
   "execution_count": 38,
   "id": "c1f485c9-90a9-4b6c-b854-3901e731530e",
   "metadata": {},
   "outputs": [
    {
     "data": {
      "text/plain": [
       "12740"
      ]
     },
     "execution_count": 38,
     "metadata": {},
     "output_type": "execute_result"
    }
   ],
   "source": [
    "con1=visadata[\"prevailing_wage\"]<70308.21\n",
    "len(visadata[con1])"
   ]
  },
  {
   "cell_type": "code",
   "execution_count": 39,
   "id": "b90a3671-6401-4b97-88f9-b4b4d69c2386",
   "metadata": {},
   "outputs": [
    {
     "name": "stdout",
     "output_type": "stream",
     "text": [
      "the  number of people whose salary is less than 50 percentile that is less than 70308.21 is 12740\n"
     ]
    }
   ],
   "source": [
    "print(f\"the  number of people whose salary is less than 50 percentile that is less than {p50} is {len(visadata[con1])}\")"
   ]
  },
  {
   "cell_type": "code",
   "execution_count": 40,
   "id": "e20bb70e-4a1c-494e-a049-9bb5bc02aec0",
   "metadata": {},
   "outputs": [],
   "source": [
    "#75 percentile"
   ]
  },
  {
   "cell_type": "code",
   "execution_count": 41,
   "id": "126c312c-0a34-4db1-ac49-7b582db2e8b4",
   "metadata": {},
   "outputs": [
    {
     "name": "stdout",
     "output_type": "stream",
     "text": [
      "107735.51\n"
     ]
    }
   ],
   "source": [
    "print(p75)"
   ]
  },
  {
   "cell_type": "code",
   "execution_count": 42,
   "id": "f11632ba-51c4-48e0-b0b0-522f0552f529",
   "metadata": {},
   "outputs": [
    {
     "data": {
      "text/plain": [
       "0         True\n",
       "1         True\n",
       "2        False\n",
       "3         True\n",
       "4        False\n",
       "         ...  \n",
       "25475     True\n",
       "25476    False\n",
       "25477    False\n",
       "25478     True\n",
       "25479     True\n",
       "Name: prevailing_wage, Length: 25480, dtype: bool"
      ]
     },
     "execution_count": 42,
     "metadata": {},
     "output_type": "execute_result"
    }
   ],
   "source": [
    "visadata[\"prevailing_wage\"]<107735.51"
   ]
  },
  {
   "cell_type": "code",
   "execution_count": 43,
   "id": "e0650efb-2a0c-4f59-998e-9ade781981f9",
   "metadata": {},
   "outputs": [
    {
     "data": {
      "text/plain": [
       "19110"
      ]
     },
     "execution_count": 43,
     "metadata": {},
     "output_type": "execute_result"
    }
   ],
   "source": [
    "con2=visadata[\"prevailing_wage\"]<107735.51\n",
    "len(visadata[con2])"
   ]
  },
  {
   "cell_type": "code",
   "execution_count": 44,
   "id": "15f11ff7-b26d-4366-a8ec-c0ed9114502e",
   "metadata": {},
   "outputs": [
    {
     "name": "stdout",
     "output_type": "stream",
     "text": [
      "the  number of people whose salary is less than 75 percentile that is less than 107735.51 is 19110\n"
     ]
    }
   ],
   "source": [
    "print(f\"the  number of people whose salary is less than 75 percentile that is less than {p75} is {len(visadata[con2])}\")"
   ]
  },
  {
   "cell_type": "markdown",
   "id": "83e14f50-c220-4f69-9e89-7fccced5ab16",
   "metadata": {},
   "source": [
    "** Emperical rule **"
   ]
  },
  {
   "cell_type": "markdown",
   "id": "ac75b462-fe60-4729-9099-0ebdbb777204",
   "metadata": {},
   "source": [
    "**Emperical rule (68-95-99.7)**\n",
    "\n",
    "<img id=\"dimg_477\" src=\"data:image/jpeg;base64,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\" class=\"YQ4gaf\" height=\"159\" style=\"object-position:0% 25%\" width=\"318\" alt=\"Empirical Rule (68-95-99.7) Explained ...\" data-csiid=\"50\" data-atf=\"1\">"
   ]
  },
  {
   "cell_type": "markdown",
   "id": "8f1469ad-9e89-43eb-93e7-12d4f953d422",
   "metadata": {},
   "source": [
    "-first calculate mean value (U)\n",
    "\n",
    "-Second calculate std deviation (sigma)\n",
    "\n",
    "- con1 mean+standarddeviation\n",
    "\n",
    "- con2 mean-standarddeviation\n",
    "\n",
    "- if data satisfies con1 and con2 in that range we will have 68 percentile data\n",
    "\n",
    "- for prewailing wage there should be 17326 employees between con1 and con2"
   ]
  },
  {
   "cell_type": "markdown",
   "id": "16165e56-b835-4332-91f0-ba2fcc6e87cf",
   "metadata": {},
   "source": []
  },
  {
   "cell_type": "code",
   "execution_count": 45,
   "id": "20cd67e9-d169-42f8-bcfc-7077bbaff3fc",
   "metadata": {},
   "outputs": [],
   "source": [
    "wage_mean=round(visadata[\"prevailing_wage\"].mean(),2)"
   ]
  },
  {
   "cell_type": "code",
   "execution_count": 46,
   "id": "e6bd0120-1baf-46ac-afb4-083538a52e29",
   "metadata": {},
   "outputs": [],
   "source": [
    "wage_std=round(visadata[\"prevailing_wage\"].std(),2)"
   ]
  },
  {
   "cell_type": "code",
   "execution_count": 47,
   "id": "c0818def-e225-4f43-883e-7625ce962bb6",
   "metadata": {},
   "outputs": [
    {
     "data": {
      "text/plain": [
       "(21639.869999999995, 127271.75)"
      ]
     },
     "execution_count": 47,
     "metadata": {},
     "output_type": "execute_result"
    }
   ],
   "source": [
    "v1=wage_mean-1*wage_std\n",
    "v2=wage_mean+1*wage_std\n",
    "con1=visadata[\"prevailing_wage\"]>v1\n",
    "con2=visadata[\"prevailing_wage\"]<v2\n",
    "v1,v2"
   ]
  },
  {
   "cell_type": "code",
   "execution_count": 48,
   "id": "d3482b02-0b7d-4579-9258-5dc54b853ce3",
   "metadata": {},
   "outputs": [
    {
     "data": {
      "text/plain": [
       "0         True\n",
       "1         True\n",
       "2         True\n",
       "3         True\n",
       "4        False\n",
       "         ...  \n",
       "25475     True\n",
       "25476    False\n",
       "25477    False\n",
       "25478     True\n",
       "25479     True\n",
       "Name: prevailing_wage, Length: 25480, dtype: bool"
      ]
     },
     "execution_count": 48,
     "metadata": {},
     "output_type": "execute_result"
    }
   ],
   "source": [
    "con2"
   ]
  },
  {
   "cell_type": "code",
   "execution_count": 49,
   "id": "e3e11b2e-4000-40c0-a416-f83d0aee1252",
   "metadata": {},
   "outputs": [],
   "source": [
    "# boolean value and operator &"
   ]
  },
  {
   "cell_type": "code",
   "execution_count": 50,
   "id": "58156268-cbde-440c-a630-7c82280d63ae",
   "metadata": {},
   "outputs": [
    {
     "data": {
      "text/html": [
       "<div>\n",
       "<style scoped>\n",
       "    .dataframe tbody tr th:only-of-type {\n",
       "        vertical-align: middle;\n",
       "    }\n",
       "\n",
       "    .dataframe tbody tr th {\n",
       "        vertical-align: top;\n",
       "    }\n",
       "\n",
       "    .dataframe thead th {\n",
       "        text-align: right;\n",
       "    }\n",
       "</style>\n",
       "<table border=\"1\" class=\"dataframe\">\n",
       "  <thead>\n",
       "    <tr style=\"text-align: right;\">\n",
       "      <th></th>\n",
       "      <th>case_id</th>\n",
       "      <th>continent</th>\n",
       "      <th>education_of_employee</th>\n",
       "      <th>has_job_experience</th>\n",
       "      <th>requires_job_training</th>\n",
       "      <th>no_of_employees</th>\n",
       "      <th>yr_of_estab</th>\n",
       "      <th>region_of_employment</th>\n",
       "      <th>prevailing_wage</th>\n",
       "      <th>unit_of_wage</th>\n",
       "      <th>full_time_position</th>\n",
       "      <th>case_status</th>\n",
       "    </tr>\n",
       "  </thead>\n",
       "  <tbody>\n",
       "    <tr>\n",
       "      <th>1</th>\n",
       "      <td>EZYV02</td>\n",
       "      <td>Asia</td>\n",
       "      <td>Master's</td>\n",
       "      <td>Y</td>\n",
       "      <td>N</td>\n",
       "      <td>2412</td>\n",
       "      <td>2002</td>\n",
       "      <td>Northeast</td>\n",
       "      <td>83425.65</td>\n",
       "      <td>Year</td>\n",
       "      <td>Y</td>\n",
       "      <td>Certified</td>\n",
       "    </tr>\n",
       "    <tr>\n",
       "      <th>2</th>\n",
       "      <td>EZYV03</td>\n",
       "      <td>Asia</td>\n",
       "      <td>Bachelor's</td>\n",
       "      <td>N</td>\n",
       "      <td>Y</td>\n",
       "      <td>44444</td>\n",
       "      <td>2008</td>\n",
       "      <td>West</td>\n",
       "      <td>122996.86</td>\n",
       "      <td>Year</td>\n",
       "      <td>Y</td>\n",
       "      <td>Denied</td>\n",
       "    </tr>\n",
       "    <tr>\n",
       "      <th>3</th>\n",
       "      <td>EZYV04</td>\n",
       "      <td>Asia</td>\n",
       "      <td>Bachelor's</td>\n",
       "      <td>N</td>\n",
       "      <td>N</td>\n",
       "      <td>98</td>\n",
       "      <td>1897</td>\n",
       "      <td>West</td>\n",
       "      <td>83434.03</td>\n",
       "      <td>Year</td>\n",
       "      <td>Y</td>\n",
       "      <td>Denied</td>\n",
       "    </tr>\n",
       "    <tr>\n",
       "      <th>5</th>\n",
       "      <td>EZYV06</td>\n",
       "      <td>Asia</td>\n",
       "      <td>Master's</td>\n",
       "      <td>Y</td>\n",
       "      <td>N</td>\n",
       "      <td>2339</td>\n",
       "      <td>2012</td>\n",
       "      <td>South</td>\n",
       "      <td>78252.14</td>\n",
       "      <td>Year</td>\n",
       "      <td>Y</td>\n",
       "      <td>Certified</td>\n",
       "    </tr>\n",
       "    <tr>\n",
       "      <th>6</th>\n",
       "      <td>EZYV07</td>\n",
       "      <td>Asia</td>\n",
       "      <td>Bachelor's</td>\n",
       "      <td>N</td>\n",
       "      <td>N</td>\n",
       "      <td>4985</td>\n",
       "      <td>1994</td>\n",
       "      <td>South</td>\n",
       "      <td>53635.39</td>\n",
       "      <td>Year</td>\n",
       "      <td>Y</td>\n",
       "      <td>Certified</td>\n",
       "    </tr>\n",
       "    <tr>\n",
       "      <th>...</th>\n",
       "      <td>...</td>\n",
       "      <td>...</td>\n",
       "      <td>...</td>\n",
       "      <td>...</td>\n",
       "      <td>...</td>\n",
       "      <td>...</td>\n",
       "      <td>...</td>\n",
       "      <td>...</td>\n",
       "      <td>...</td>\n",
       "      <td>...</td>\n",
       "      <td>...</td>\n",
       "      <td>...</td>\n",
       "    </tr>\n",
       "    <tr>\n",
       "      <th>25473</th>\n",
       "      <td>EZYV25474</td>\n",
       "      <td>Asia</td>\n",
       "      <td>Bachelor's</td>\n",
       "      <td>Y</td>\n",
       "      <td>N</td>\n",
       "      <td>2421</td>\n",
       "      <td>2007</td>\n",
       "      <td>Northeast</td>\n",
       "      <td>22845.56</td>\n",
       "      <td>Year</td>\n",
       "      <td>Y</td>\n",
       "      <td>Certified</td>\n",
       "    </tr>\n",
       "    <tr>\n",
       "      <th>25474</th>\n",
       "      <td>EZYV25475</td>\n",
       "      <td>Africa</td>\n",
       "      <td>Doctorate</td>\n",
       "      <td>N</td>\n",
       "      <td>N</td>\n",
       "      <td>2594</td>\n",
       "      <td>1979</td>\n",
       "      <td>Northeast</td>\n",
       "      <td>51104.78</td>\n",
       "      <td>Year</td>\n",
       "      <td>Y</td>\n",
       "      <td>Certified</td>\n",
       "    </tr>\n",
       "    <tr>\n",
       "      <th>25475</th>\n",
       "      <td>EZYV25476</td>\n",
       "      <td>Asia</td>\n",
       "      <td>Bachelor's</td>\n",
       "      <td>Y</td>\n",
       "      <td>Y</td>\n",
       "      <td>2601</td>\n",
       "      <td>2008</td>\n",
       "      <td>South</td>\n",
       "      <td>77092.57</td>\n",
       "      <td>Year</td>\n",
       "      <td>Y</td>\n",
       "      <td>Certified</td>\n",
       "    </tr>\n",
       "    <tr>\n",
       "      <th>25478</th>\n",
       "      <td>EZYV25479</td>\n",
       "      <td>Asia</td>\n",
       "      <td>Master's</td>\n",
       "      <td>Y</td>\n",
       "      <td>Y</td>\n",
       "      <td>1918</td>\n",
       "      <td>1887</td>\n",
       "      <td>West</td>\n",
       "      <td>86154.77</td>\n",
       "      <td>Year</td>\n",
       "      <td>Y</td>\n",
       "      <td>Certified</td>\n",
       "    </tr>\n",
       "    <tr>\n",
       "      <th>25479</th>\n",
       "      <td>EZYV25480</td>\n",
       "      <td>Asia</td>\n",
       "      <td>Bachelor's</td>\n",
       "      <td>Y</td>\n",
       "      <td>N</td>\n",
       "      <td>3195</td>\n",
       "      <td>1960</td>\n",
       "      <td>Midwest</td>\n",
       "      <td>70876.91</td>\n",
       "      <td>Year</td>\n",
       "      <td>Y</td>\n",
       "      <td>Certified</td>\n",
       "    </tr>\n",
       "  </tbody>\n",
       "</table>\n",
       "<p>17171 rows × 12 columns</p>\n",
       "</div>"
      ],
      "text/plain": [
       "         case_id continent education_of_employee has_job_experience  \\\n",
       "1         EZYV02      Asia              Master's                  Y   \n",
       "2         EZYV03      Asia            Bachelor's                  N   \n",
       "3         EZYV04      Asia            Bachelor's                  N   \n",
       "5         EZYV06      Asia              Master's                  Y   \n",
       "6         EZYV07      Asia            Bachelor's                  N   \n",
       "...          ...       ...                   ...                ...   \n",
       "25473  EZYV25474      Asia            Bachelor's                  Y   \n",
       "25474  EZYV25475    Africa             Doctorate                  N   \n",
       "25475  EZYV25476      Asia            Bachelor's                  Y   \n",
       "25478  EZYV25479      Asia              Master's                  Y   \n",
       "25479  EZYV25480      Asia            Bachelor's                  Y   \n",
       "\n",
       "      requires_job_training  no_of_employees  yr_of_estab  \\\n",
       "1                         N             2412         2002   \n",
       "2                         Y            44444         2008   \n",
       "3                         N               98         1897   \n",
       "5                         N             2339         2012   \n",
       "6                         N             4985         1994   \n",
       "...                     ...              ...          ...   \n",
       "25473                     N             2421         2007   \n",
       "25474                     N             2594         1979   \n",
       "25475                     Y             2601         2008   \n",
       "25478                     Y             1918         1887   \n",
       "25479                     N             3195         1960   \n",
       "\n",
       "      region_of_employment  prevailing_wage unit_of_wage full_time_position  \\\n",
       "1                Northeast         83425.65         Year                  Y   \n",
       "2                     West        122996.86         Year                  Y   \n",
       "3                     West         83434.03         Year                  Y   \n",
       "5                    South         78252.14         Year                  Y   \n",
       "6                    South         53635.39         Year                  Y   \n",
       "...                    ...              ...          ...                ...   \n",
       "25473            Northeast         22845.56         Year                  Y   \n",
       "25474            Northeast         51104.78         Year                  Y   \n",
       "25475                South         77092.57         Year                  Y   \n",
       "25478                 West         86154.77         Year                  Y   \n",
       "25479              Midwest         70876.91         Year                  Y   \n",
       "\n",
       "      case_status  \n",
       "1       Certified  \n",
       "2          Denied  \n",
       "3          Denied  \n",
       "5       Certified  \n",
       "6       Certified  \n",
       "...           ...  \n",
       "25473   Certified  \n",
       "25474   Certified  \n",
       "25475   Certified  \n",
       "25478   Certified  \n",
       "25479   Certified  \n",
       "\n",
       "[17171 rows x 12 columns]"
      ]
     },
     "execution_count": 50,
     "metadata": {},
     "output_type": "execute_result"
    }
   ],
   "source": [
    "v1=wage_mean-1*wage_std\n",
    "v2=wage_mean+1*wage_std\n",
    "con1=visadata[\"prevailing_wage\"] >v1\n",
    "con2=visadata[\"prevailing_wage\"] <v2\n",
    "visadata[con1 & con2]"
   ]
  },
  {
   "cell_type": "code",
   "execution_count": 51,
   "id": "8142c08c-8bb0-4cad-85f0-0c16126281dd",
   "metadata": {},
   "outputs": [
    {
     "data": {
      "text/plain": [
       "17171"
      ]
     },
     "execution_count": 51,
     "metadata": {},
     "output_type": "execute_result"
    }
   ],
   "source": [
    "len(visadata[con1 & con2])"
   ]
  },
  {
   "cell_type": "code",
   "execution_count": 52,
   "id": "27cfd966-706e-4325-a3e5-e8a9d3107cb4",
   "metadata": {},
   "outputs": [
    {
     "data": {
      "text/html": [
       "<div>\n",
       "<style scoped>\n",
       "    .dataframe tbody tr th:only-of-type {\n",
       "        vertical-align: middle;\n",
       "    }\n",
       "\n",
       "    .dataframe tbody tr th {\n",
       "        vertical-align: top;\n",
       "    }\n",
       "\n",
       "    .dataframe thead th {\n",
       "        text-align: right;\n",
       "    }\n",
       "</style>\n",
       "<table border=\"1\" class=\"dataframe\">\n",
       "  <thead>\n",
       "    <tr style=\"text-align: right;\">\n",
       "      <th></th>\n",
       "      <th>prevailing_wage</th>\n",
       "    </tr>\n",
       "  </thead>\n",
       "  <tbody>\n",
       "    <tr>\n",
       "      <th>count</th>\n",
       "      <td>25480.00</td>\n",
       "    </tr>\n",
       "    <tr>\n",
       "      <th>min</th>\n",
       "      <td>2.14</td>\n",
       "    </tr>\n",
       "    <tr>\n",
       "      <th>max</th>\n",
       "      <td>319210.27</td>\n",
       "    </tr>\n",
       "    <tr>\n",
       "      <th>mean</th>\n",
       "      <td>74455.81</td>\n",
       "    </tr>\n",
       "    <tr>\n",
       "      <th>median</th>\n",
       "      <td>70308.21</td>\n",
       "    </tr>\n",
       "    <tr>\n",
       "      <th>std</th>\n",
       "      <td>52815.94</td>\n",
       "    </tr>\n",
       "    <tr>\n",
       "      <th>25%</th>\n",
       "      <td>34015.48</td>\n",
       "    </tr>\n",
       "    <tr>\n",
       "      <th>50%</th>\n",
       "      <td>70308.21</td>\n",
       "    </tr>\n",
       "    <tr>\n",
       "      <th>75%</th>\n",
       "      <td>107735.51</td>\n",
       "    </tr>\n",
       "  </tbody>\n",
       "</table>\n",
       "</div>"
      ],
      "text/plain": [
       "        prevailing_wage\n",
       "count          25480.00\n",
       "min                2.14\n",
       "max           319210.27\n",
       "mean           74455.81\n",
       "median         70308.21\n",
       "std            52815.94\n",
       "25%            34015.48\n",
       "50%            70308.21\n",
       "75%           107735.51"
      ]
     },
     "execution_count": 52,
     "metadata": {},
     "output_type": "execute_result"
    }
   ],
   "source": [
    "list_values=[]\n",
    "\n",
    "wage_count=round(len(visadata[\"prevailing_wage\"]),2)\n",
    "list_values.append(wage_count)\n",
    "wage_min=round(visadata[\"prevailing_wage\"].min(),2)\n",
    "list_values.append(wage_min)\n",
    "wage_max=round(visadata[\"prevailing_wage\"].max(),2)\n",
    "list_values.append(wage_max)\n",
    "wage_mean=round(visadata[\"prevailing_wage\"].mean(),2)\n",
    "list_values.append(wage_mean)\n",
    "wage_median=round(visadata[\"prevailing_wage\"].median(),2)\n",
    "list_values.append(wage_median)\n",
    "wage_std=round(visadata[\"prevailing_wage\"].std(),2)\n",
    "list_values.append(wage_std)\n",
    "#############################################\n",
    "p25=round(np.percentile(visadata['prevailing_wage'],25),2)\n",
    "p50=round(np.percentile(visadata['prevailing_wage'],50),2)\n",
    "p75=round(np.percentile(visadata['prevailing_wage'],75),2)\n",
    "list_values.append(p25)\n",
    "list_values.append(p50)\n",
    "list_values.append(p75)\n",
    "###############################################################\n",
    "Index_val=[\"count\",\"min\",\"max\",\"mean\",\"median\",\"std\",\"25%\",\"50%\",\"75%\"]\n",
    "pd.DataFrame(list_values,index=Index_val,columns=[\"prevailing_wage\"])"
   ]
  },
  {
   "cell_type": "markdown",
   "id": "7d99ed38-71a7-42fd-a65d-b24f41c81e73",
   "metadata": {},
   "source": [
    "** No of employees **"
   ]
  },
  {
   "cell_type": "code",
   "execution_count": 53,
   "id": "4b94a5bd-5995-4c10-b1a1-edae7dc89f48",
   "metadata": {},
   "outputs": [
    {
     "data": {
      "text/plain": [
       "case_id                   object\n",
       "continent                 object\n",
       "education_of_employee     object\n",
       "has_job_experience        object\n",
       "requires_job_training     object\n",
       "no_of_employees            int64\n",
       "yr_of_estab                int64\n",
       "region_of_employment      object\n",
       "prevailing_wage          float64\n",
       "unit_of_wage              object\n",
       "full_time_position        object\n",
       "case_status               object\n",
       "dtype: object"
      ]
     },
     "execution_count": 53,
     "metadata": {},
     "output_type": "execute_result"
    }
   ],
   "source": [
    "visadata.dtypes"
   ]
  },
  {
   "cell_type": "code",
   "execution_count": 54,
   "id": "7df2a826-bb72-4e01-8cbc-ffc048fb1773",
   "metadata": {},
   "outputs": [],
   "source": [
    "datatypes=visadata.select_dtypes(exclude=object)"
   ]
  },
  {
   "cell_type": "code",
   "execution_count": 55,
   "id": "4cbb3379-1208-4728-bdbc-cc443c5b8e04",
   "metadata": {},
   "outputs": [
    {
     "data": {
      "text/plain": [
       "pandas.core.frame.DataFrame"
      ]
     },
     "execution_count": 55,
     "metadata": {},
     "output_type": "execute_result"
    }
   ],
   "source": [
    "type(datatypes)"
   ]
  },
  {
   "cell_type": "code",
   "execution_count": 56,
   "id": "648fdbeb-9cb9-4cbb-b5c6-60b881e6d2b5",
   "metadata": {},
   "outputs": [
    {
     "data": {
      "text/html": [
       "<div>\n",
       "<style scoped>\n",
       "    .dataframe tbody tr th:only-of-type {\n",
       "        vertical-align: middle;\n",
       "    }\n",
       "\n",
       "    .dataframe tbody tr th {\n",
       "        vertical-align: top;\n",
       "    }\n",
       "\n",
       "    .dataframe thead th {\n",
       "        text-align: right;\n",
       "    }\n",
       "</style>\n",
       "<table border=\"1\" class=\"dataframe\">\n",
       "  <thead>\n",
       "    <tr style=\"text-align: right;\">\n",
       "      <th></th>\n",
       "      <th>no_of_employees</th>\n",
       "      <th>yr_of_estab</th>\n",
       "      <th>prevailing_wage</th>\n",
       "    </tr>\n",
       "  </thead>\n",
       "  <tbody>\n",
       "    <tr>\n",
       "      <th>0</th>\n",
       "      <td>14513</td>\n",
       "      <td>2007</td>\n",
       "      <td>592.2029</td>\n",
       "    </tr>\n",
       "    <tr>\n",
       "      <th>1</th>\n",
       "      <td>2412</td>\n",
       "      <td>2002</td>\n",
       "      <td>83425.6500</td>\n",
       "    </tr>\n",
       "    <tr>\n",
       "      <th>2</th>\n",
       "      <td>44444</td>\n",
       "      <td>2008</td>\n",
       "      <td>122996.8600</td>\n",
       "    </tr>\n",
       "    <tr>\n",
       "      <th>3</th>\n",
       "      <td>98</td>\n",
       "      <td>1897</td>\n",
       "      <td>83434.0300</td>\n",
       "    </tr>\n",
       "    <tr>\n",
       "      <th>4</th>\n",
       "      <td>1082</td>\n",
       "      <td>2005</td>\n",
       "      <td>149907.3900</td>\n",
       "    </tr>\n",
       "    <tr>\n",
       "      <th>...</th>\n",
       "      <td>...</td>\n",
       "      <td>...</td>\n",
       "      <td>...</td>\n",
       "    </tr>\n",
       "    <tr>\n",
       "      <th>25475</th>\n",
       "      <td>2601</td>\n",
       "      <td>2008</td>\n",
       "      <td>77092.5700</td>\n",
       "    </tr>\n",
       "    <tr>\n",
       "      <th>25476</th>\n",
       "      <td>3274</td>\n",
       "      <td>2006</td>\n",
       "      <td>279174.7900</td>\n",
       "    </tr>\n",
       "    <tr>\n",
       "      <th>25477</th>\n",
       "      <td>1121</td>\n",
       "      <td>1910</td>\n",
       "      <td>146298.8500</td>\n",
       "    </tr>\n",
       "    <tr>\n",
       "      <th>25478</th>\n",
       "      <td>1918</td>\n",
       "      <td>1887</td>\n",
       "      <td>86154.7700</td>\n",
       "    </tr>\n",
       "    <tr>\n",
       "      <th>25479</th>\n",
       "      <td>3195</td>\n",
       "      <td>1960</td>\n",
       "      <td>70876.9100</td>\n",
       "    </tr>\n",
       "  </tbody>\n",
       "</table>\n",
       "<p>25480 rows × 3 columns</p>\n",
       "</div>"
      ],
      "text/plain": [
       "       no_of_employees  yr_of_estab  prevailing_wage\n",
       "0                14513         2007         592.2029\n",
       "1                 2412         2002       83425.6500\n",
       "2                44444         2008      122996.8600\n",
       "3                   98         1897       83434.0300\n",
       "4                 1082         2005      149907.3900\n",
       "...                ...          ...              ...\n",
       "25475             2601         2008       77092.5700\n",
       "25476             3274         2006      279174.7900\n",
       "25477             1121         1910      146298.8500\n",
       "25478             1918         1887       86154.7700\n",
       "25479             3195         1960       70876.9100\n",
       "\n",
       "[25480 rows x 3 columns]"
      ]
     },
     "execution_count": 56,
     "metadata": {},
     "output_type": "execute_result"
    }
   ],
   "source": [
    "datatypes"
   ]
  },
  {
   "cell_type": "code",
   "execution_count": 57,
   "id": "542d9077-8b86-4183-b3e9-3eb9175e0716",
   "metadata": {},
   "outputs": [
    {
     "data": {
      "text/plain": [
       "0        14513\n",
       "1         2412\n",
       "2        44444\n",
       "3           98\n",
       "4         1082\n",
       "         ...  \n",
       "25475     2601\n",
       "25476     3274\n",
       "25477     1121\n",
       "25478     1918\n",
       "25479     3195\n",
       "Name: no_of_employees, Length: 25480, dtype: int64"
      ]
     },
     "execution_count": 57,
     "metadata": {},
     "output_type": "execute_result"
    }
   ],
   "source": [
    "visadata[\"no_of_employees\"]"
   ]
  },
  {
   "cell_type": "code",
   "execution_count": 59,
   "id": "8a440c43-4e72-4c75-9e0e-e56cd338d8f0",
   "metadata": {},
   "outputs": [
    {
     "data": {
      "text/html": [
       "<div>\n",
       "<style scoped>\n",
       "    .dataframe tbody tr th:only-of-type {\n",
       "        vertical-align: middle;\n",
       "    }\n",
       "\n",
       "    .dataframe tbody tr th {\n",
       "        vertical-align: top;\n",
       "    }\n",
       "\n",
       "    .dataframe thead th {\n",
       "        text-align: right;\n",
       "    }\n",
       "</style>\n",
       "<table border=\"1\" class=\"dataframe\">\n",
       "  <thead>\n",
       "    <tr style=\"text-align: right;\">\n",
       "      <th></th>\n",
       "      <th>no_of_employees</th>\n",
       "      <th>yr_of_estab</th>\n",
       "      <th>prevailing_wage</th>\n",
       "    </tr>\n",
       "  </thead>\n",
       "  <tbody>\n",
       "    <tr>\n",
       "      <th>count</th>\n",
       "      <td>25480.00</td>\n",
       "      <td>25480.00</td>\n",
       "      <td>25480.00</td>\n",
       "    </tr>\n",
       "    <tr>\n",
       "      <th>min</th>\n",
       "      <td>-26.00</td>\n",
       "      <td>1800.00</td>\n",
       "      <td>2.14</td>\n",
       "    </tr>\n",
       "    <tr>\n",
       "      <th>max</th>\n",
       "      <td>602069.00</td>\n",
       "      <td>2016.00</td>\n",
       "      <td>319210.27</td>\n",
       "    </tr>\n",
       "    <tr>\n",
       "      <th>mean</th>\n",
       "      <td>5667.04</td>\n",
       "      <td>1979.41</td>\n",
       "      <td>74455.81</td>\n",
       "    </tr>\n",
       "    <tr>\n",
       "      <th>median</th>\n",
       "      <td>2109.00</td>\n",
       "      <td>1997.00</td>\n",
       "      <td>70308.21</td>\n",
       "    </tr>\n",
       "    <tr>\n",
       "      <th>std</th>\n",
       "      <td>22877.93</td>\n",
       "      <td>42.37</td>\n",
       "      <td>52815.94</td>\n",
       "    </tr>\n",
       "    <tr>\n",
       "      <th>25%</th>\n",
       "      <td>1022.00</td>\n",
       "      <td>1976.00</td>\n",
       "      <td>34015.48</td>\n",
       "    </tr>\n",
       "    <tr>\n",
       "      <th>50%</th>\n",
       "      <td>2109.00</td>\n",
       "      <td>1997.00</td>\n",
       "      <td>70308.21</td>\n",
       "    </tr>\n",
       "    <tr>\n",
       "      <th>75%</th>\n",
       "      <td>3504.00</td>\n",
       "      <td>2005.00</td>\n",
       "      <td>107735.51</td>\n",
       "    </tr>\n",
       "  </tbody>\n",
       "</table>\n",
       "</div>"
      ],
      "text/plain": [
       "        no_of_employees  yr_of_estab  prevailing_wage\n",
       "count          25480.00     25480.00         25480.00\n",
       "min              -26.00      1800.00             2.14\n",
       "max           602069.00      2016.00        319210.27\n",
       "mean            5667.04      1979.41         74455.81\n",
       "median          2109.00      1997.00         70308.21\n",
       "std            22877.93        42.37         52815.94\n",
       "25%             1022.00      1976.00         34015.48\n",
       "50%             2109.00      1997.00         70308.21\n",
       "75%             3504.00      2005.00        107735.51"
      ]
     },
     "execution_count": 59,
     "metadata": {},
     "output_type": "execute_result"
    }
   ],
   "source": [
    "l1=[]\n",
    "cols=[\"no_of_employees\",\"yr_of_estab\",\"prevailing_wage\"]\n",
    "for i in cols:\n",
    "    count=round(len(visadata[i]),2)\n",
    "    min=round(visadata[i].min(),2)\n",
    "    max=round(visadata[i].max(),2)\n",
    "    mean=round(visadata[i].mean(),2)\n",
    "    median=round(visadata[i].median(),2)\n",
    "    std=round(visadata[i].std(),2)\n",
    "    p25=round(np.quantile(visadata[i],.25),2)\n",
    "    p50=round(np.quantile(visadata[i],.50),2)\n",
    "    p75=round(np.quantile(visadata[i],.75),2)\n",
    "    l1.append([count,min,max,mean,median,std,p25,p50,p75])\n",
    "Index_val=[\"count\",\"min\",\"max\",\"mean\",\"median\",\"std\",\"25%\",\"50%\",\"75%\"]\n",
    "df=pd.DataFrame(l1,columns=Index_val,index=cols)\n",
    "df.T"
   ]
  },
  {
   "cell_type": "code",
   "execution_count": 59,
   "id": "71863be0-f261-4e16-8492-254455dc8e58",
   "metadata": {},
   "outputs": [],
   "source": [
    "# we can achieve all the above with describe function  only for numerical data"
   ]
  },
  {
   "cell_type": "code",
   "execution_count": 60,
   "id": "83cd9feb-525f-4f8f-9ba2-720ea10fca48",
   "metadata": {},
   "outputs": [
    {
     "data": {
      "text/html": [
       "<div>\n",
       "<style scoped>\n",
       "    .dataframe tbody tr th:only-of-type {\n",
       "        vertical-align: middle;\n",
       "    }\n",
       "\n",
       "    .dataframe tbody tr th {\n",
       "        vertical-align: top;\n",
       "    }\n",
       "\n",
       "    .dataframe thead th {\n",
       "        text-align: right;\n",
       "    }\n",
       "</style>\n",
       "<table border=\"1\" class=\"dataframe\">\n",
       "  <thead>\n",
       "    <tr style=\"text-align: right;\">\n",
       "      <th></th>\n",
       "      <th>no_of_employees</th>\n",
       "      <th>yr_of_estab</th>\n",
       "      <th>prevailing_wage</th>\n",
       "    </tr>\n",
       "  </thead>\n",
       "  <tbody>\n",
       "    <tr>\n",
       "      <th>count</th>\n",
       "      <td>25480.000000</td>\n",
       "      <td>25480.000000</td>\n",
       "      <td>25480.000000</td>\n",
       "    </tr>\n",
       "    <tr>\n",
       "      <th>mean</th>\n",
       "      <td>5667.043210</td>\n",
       "      <td>1979.409929</td>\n",
       "      <td>74455.814592</td>\n",
       "    </tr>\n",
       "    <tr>\n",
       "      <th>std</th>\n",
       "      <td>22877.928848</td>\n",
       "      <td>42.366929</td>\n",
       "      <td>52815.942327</td>\n",
       "    </tr>\n",
       "    <tr>\n",
       "      <th>min</th>\n",
       "      <td>-26.000000</td>\n",
       "      <td>1800.000000</td>\n",
       "      <td>2.136700</td>\n",
       "    </tr>\n",
       "    <tr>\n",
       "      <th>25%</th>\n",
       "      <td>1022.000000</td>\n",
       "      <td>1976.000000</td>\n",
       "      <td>34015.480000</td>\n",
       "    </tr>\n",
       "    <tr>\n",
       "      <th>50%</th>\n",
       "      <td>2109.000000</td>\n",
       "      <td>1997.000000</td>\n",
       "      <td>70308.210000</td>\n",
       "    </tr>\n",
       "    <tr>\n",
       "      <th>75%</th>\n",
       "      <td>3504.000000</td>\n",
       "      <td>2005.000000</td>\n",
       "      <td>107735.512500</td>\n",
       "    </tr>\n",
       "    <tr>\n",
       "      <th>max</th>\n",
       "      <td>602069.000000</td>\n",
       "      <td>2016.000000</td>\n",
       "      <td>319210.270000</td>\n",
       "    </tr>\n",
       "  </tbody>\n",
       "</table>\n",
       "</div>"
      ],
      "text/plain": [
       "       no_of_employees   yr_of_estab  prevailing_wage\n",
       "count     25480.000000  25480.000000     25480.000000\n",
       "mean       5667.043210   1979.409929     74455.814592\n",
       "std       22877.928848     42.366929     52815.942327\n",
       "min         -26.000000   1800.000000         2.136700\n",
       "25%        1022.000000   1976.000000     34015.480000\n",
       "50%        2109.000000   1997.000000     70308.210000\n",
       "75%        3504.000000   2005.000000    107735.512500\n",
       "max      602069.000000   2016.000000    319210.270000"
      ]
     },
     "execution_count": 60,
     "metadata": {},
     "output_type": "execute_result"
    }
   ],
   "source": [
    "visadata.describe()"
   ]
  },
  {
   "cell_type": "markdown",
   "id": "f5e7dc66-4611-4b4d-a979-073a2459eb8b",
   "metadata": {},
   "source": [
    "Histrogram"
   ]
  },
  {
   "cell_type": "markdown",
   "id": "4af2b087-6f9d-41f4-88a2-b6f7945b7a43",
   "metadata": {},
   "source": [
    "# We can get histogram bu using matplot lib and by seaborn also\n",
    "# plt.hist()"
   ]
  },
  {
   "cell_type": "markdown",
   "id": "5242321b-7dee-484b-8679-a6a29dc34154",
   "metadata": {},
   "source": [
    "Histogram will give 3 oupputs\n",
    "\n",
    "1)frequency\n",
    "\n",
    "\n",
    "2)Intervel\n",
    "\n",
    "\n",
    "3)number of intervels"
   ]
  },
  {
   "cell_type": "code",
   "execution_count": 61,
   "id": "d2c77807-8cfd-4448-8aab-03d70dccc533",
   "metadata": {},
   "outputs": [
    {
     "data": {
      "text/plain": [
       "(array([6038., 5504., 5681., 4551., 2334.,  624.,  373.,  240.,  114.,\n",
       "          21.]),\n",
       " array([2.13670000e+00, 3.19229500e+04, 6.38437634e+04, 9.57645767e+04,\n",
       "        1.27685390e+05, 1.59606203e+05, 1.91527017e+05, 2.23447830e+05,\n",
       "        2.55368643e+05, 2.87289457e+05, 3.19210270e+05]),\n",
       " <BarContainer object of 10 artists>)"
      ]
     },
     "execution_count": 61,
     "metadata": {},
     "output_type": "execute_result"
    },
    {
     "data": {
      "image/png": "[encoded data removed]",
      "text/plain": [
       "<Figure size 640x480 with 1 Axes>"
      ]
     },
     "metadata": {},
     "output_type": "display_data"
    }
   ],
   "source": [
    "plt.hist(visadata[\"prevailing_wage\"])"
   ]
  },
  {
   "cell_type": "markdown",
   "id": "869c348d-4d06-4b2e-9b3c-8d57bd7b34df",
   "metadata": {},
   "source": [
    "# bins\n",
    "\n",
    "Bins means data into  intervals\n",
    "\n",
    "in below bins =100 so we are dividing data into 100 intervals"
   ]
  },
  {
   "cell_type": "code",
   "execution_count": 62,
   "id": "3cd86ff6-06bc-4e49-920f-4c9ef9ec95ab",
   "metadata": {},
   "outputs": [
    {
     "data": {
      "image/png": "[encoded data removed]",
      "text/plain": [
       "<Figure size 640x480 with 1 Axes>"
      ]
     },
     "metadata": {},
     "output_type": "display_data"
    }
   ],
   "source": [
    "f,i,n=plt.hist(visadata[\"prevailing_wage\"],bins=100)"
   ]
  },
  {
   "cell_type": "code",
   "execution_count": 63,
   "id": "d9d56b5d-f292-43f8-acc8-ae627db03908",
   "metadata": {},
   "outputs": [
    {
     "data": {
      "text/plain": [
       "<BarContainer object of 100 artists>"
      ]
     },
     "execution_count": 63,
     "metadata": {},
     "output_type": "execute_result"
    }
   ],
   "source": [
    "n"
   ]
  },
  {
   "cell_type": "code",
   "execution_count": 63,
   "id": "a4b8ae6b-0305-4de0-b364-3795dff1a530",
   "metadata": {},
   "outputs": [
    {
     "data": {
      "image/png": "[encoded data removed]",
      "text/plain": [
       "<Figure size 640x480 with 1 Axes>"
      ]
     },
     "metadata": {},
     "output_type": "display_data"
    }
   ],
   "source": [
    "plt.title(\"Histogram\")\n",
    "plt.hist(visadata[\"prevailing_wage\"],bins=100)\n",
    "plt.xlabel(\"Class interval\")\n",
    "plt.ylabel(\"count\")\n",
    "plt.show()"
   ]
  },
  {
   "cell_type": "code",
   "execution_count": 65,
   "id": "3cd1e94b-41c9-4f4d-8d4d-a5fb0f1876c3",
   "metadata": {},
   "outputs": [],
   "source": [
    "cols=[\"no_of_employees\",\"yr_of_estab\",\"prevailing_wage\"]"
   ]
  },
  {
   "cell_type": "code",
   "execution_count": 64,
   "id": "3d7a19e5-0f7a-402f-bf64-ba674ba908c8",
   "metadata": {},
   "outputs": [
    {
     "data": {
      "image/png": "[encoded data removed]",
      "text/plain": [
       "<Figure size 1800x300 with 3 Axes>"
      ]
     },
     "metadata": {},
     "output_type": "display_data"
    }
   ],
   "source": [
    "plt.figure(figsize=(18,3))\n",
    "for i in range(len(cols)):\n",
    "    plt.subplot(1,len(cols),i+1)\n",
    "    plt.hist(visadata[cols[i]],bins=40)\n",
    "    "
   ]
  },
  {
   "cell_type": "markdown",
   "id": "d3e72673-6171-4139-8a51-fe512a67306c",
   "metadata": {},
   "source": [
    "# histogram using seaborn"
   ]
  },
  {
   "cell_type": "code",
   "execution_count": 65,
   "id": "132fcbda-eb7f-4030-bb1e-238b65ad6a1f",
   "metadata": {},
   "outputs": [
    {
     "data": {
      "text/plain": [
       "<seaborn.axisgrid.FacetGrid at 0x15334bc90>"
      ]
     },
     "execution_count": 65,
     "metadata": {},
     "output_type": "execute_result"
    },
    {
     "data": {
      "image/png": "[encoded data removed]",
      "text/plain": [
       "<Figure size 500x500 with 1 Axes>"
      ]
     },
     "metadata": {},
     "output_type": "display_data"
    }
   ],
   "source": [
    "sns.displot(visadata[\"prevailing_wage\"])"
   ]
  },
  {
   "cell_type": "code",
   "execution_count": 68,
   "id": "738a2194-313f-4c45-8098-2eff02b1006c",
   "metadata": {},
   "outputs": [
    {
     "name": "stderr",
     "output_type": "stream",
     "text": [
      "/var/folders/24/8tn3hq_n69b3bh_npr321plm0000gn/T/ipykernel_86437/3524874681.py:1: UserWarning: \n",
      "\n",
      "`distplot` is a deprecated function and will be removed in seaborn v0.14.0.\n",
      "\n",
      "Please adapt your code to use either `displot` (a figure-level function with\n",
      "similar flexibility) or `histplot` (an axes-level function for histograms).\n",
      "\n",
      "For a guide to updating your code to use the new functions, please see\n",
      "https://gist.github.com/mwaskom/de44147ed2974457ad6372750bbe5751\n",
      "\n",
      "  sns.distplot(visadata[\"prevailing_wage\"])\n"
     ]
    },
    {
     "data": {
      "text/plain": [
       "<Axes: xlabel='prevailing_wage', ylabel='Density'>"
      ]
     },
     "execution_count": 68,
     "metadata": {},
     "output_type": "execute_result"
    },
    {
     "data": {
      "image/png": "[encoded data removed]",
      "text/plain": [
       "<Figure size 640x480 with 1 Axes>"
      ]
     },
     "metadata": {},
     "output_type": "display_data"
    }
   ],
   "source": [
    "\n",
    "sns.distplot(visadata[\"prevailing_wage\"])"
   ]
  },
  {
   "cell_type": "code",
   "execution_count": 66,
   "id": "3dcf934b-840c-465b-8fb5-365b2255a305",
   "metadata": {},
   "outputs": [
    {
     "data": {
      "text/plain": [
       "<Axes: xlabel='prevailing_wage', ylabel='Density'>"
      ]
     },
     "execution_count": 66,
     "metadata": {},
     "output_type": "execute_result"
    },
    {
     "data": {
      "image/png": "[encoded data removed]",
      "text/plain": [
       "<Figure size 640x480 with 1 Axes>"
      ]
     },
     "metadata": {},
     "output_type": "display_data"
    }
   ],
   "source": [
    "import warnings\n",
    "warnings.filterwarnings(\"ignore\")\n",
    "sns.distplot(visadata[\"prevailing_wage\"])"
   ]
  },
  {
   "cell_type": "code",
   "execution_count": 67,
   "id": "3e5d0a3b-a556-41ba-be80-5304071b6ce1",
   "metadata": {},
   "outputs": [
    {
     "data": {
      "text/plain": [
       "<Axes: >"
      ]
     },
     "execution_count": 67,
     "metadata": {},
     "output_type": "execute_result"
    },
    {
     "data": {
      "image/png": "[encoded data removed]",
      "text/plain": [
       "<Figure size 640x480 with 2 Axes>"
      ]
     },
     "metadata": {},
     "output_type": "display_data"
    }
   ],
   "source": [
    "visa_corr=visadata.corr(numeric_only=True)\n",
    "sns.heatmap(visa_corr,annot=True)"
   ]
  },
  {
   "cell_type": "code",
   "execution_count": null,
   "id": "e36402ce-8486-48e7-9fca-9faa8a18037c",
   "metadata": {},
   "outputs": [],
   "source": []
  },
  {
   "cell_type": "code",
   "execution_count": null,
   "id": "58451a7e-8051-426d-b37e-94fbb7706d02",
   "metadata": {},
   "outputs": [],
   "source": []
  }
 ],
 "metadata": {
  "kernelspec": {
   "display_name": "Python 3 (ipykernel)",
   "language": "python",
   "name": "python3"
  },
  "language_info": {
   "codemirror_mode": {
    "name": "ipython",
    "version": 3
   },
   "file_extension": ".py",
   "mimetype": "text/x-python",
   "name": "python",
   "nbconvert_exporter": "python",
   "pygments_lexer": "ipython3",
   "version": "3.11.8"
  }
 },
 "nbformat": 4,
 "nbformat_minor": 5
}
