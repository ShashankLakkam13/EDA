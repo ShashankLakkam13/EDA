{
 "cells": [
  {
   "cell_type": "code",
   "execution_count": 1,
   "id": "9c70f6d4-729a-4105-9a62-ccaca2f959d2",
   "metadata": {},
   "outputs": [],
   "source": [
    "import pandas as pd\n",
    "import numpy as np\n",
    "import matplotlib.pyplot as plt\n",
    "import seaborn as sns"
   ]
  },
  {
   "cell_type": "code",
   "execution_count": 2,
   "id": "251b5fd1-196b-453a-99b3-26f6c2855ec2",
   "metadata": {},
   "outputs": [],
   "source": [
    "visadata=pd.read_csv(\"/Users/shashankreddy/Desktop/Datafiles/Visadataset - Visadataset.csv\")"
   ]
  },
  {
   "cell_type": "code",
   "execution_count": 3,
   "id": "4cc9f701-58f1-42a3-a0d9-bf66113c6e8d",
   "metadata": {},
   "outputs": [
    {
     "data": {
      "text/html": [
       "<div>\n",
       "<style scoped>\n",
       "    .dataframe tbody tr th:only-of-type {\n",
       "        vertical-align: middle;\n",
       "    }\n",
       "\n",
       "    .dataframe tbody tr th {\n",
       "        vertical-align: top;\n",
       "    }\n",
       "\n",
       "    .dataframe thead th {\n",
       "        text-align: right;\n",
       "    }\n",
       "</style>\n",
       "<table border=\"1\" class=\"dataframe\">\n",
       "  <thead>\n",
       "    <tr style=\"text-align: right;\">\n",
       "      <th></th>\n",
       "      <th>case_id</th>\n",
       "      <th>continent</th>\n",
       "      <th>education_of_employee</th>\n",
       "      <th>has_job_experience</th>\n",
       "      <th>requires_job_training</th>\n",
       "      <th>no_of_employees</th>\n",
       "      <th>yr_of_estab</th>\n",
       "      <th>region_of_employment</th>\n",
       "      <th>prevailing_wage</th>\n",
       "      <th>unit_of_wage</th>\n",
       "      <th>full_time_position</th>\n",
       "      <th>case_status</th>\n",
       "    </tr>\n",
       "  </thead>\n",
       "  <tbody>\n",
       "    <tr>\n",
       "      <th>0</th>\n",
       "      <td>EZYV01</td>\n",
       "      <td>Asia</td>\n",
       "      <td>High School</td>\n",
       "      <td>N</td>\n",
       "      <td>N</td>\n",
       "      <td>14513</td>\n",
       "      <td>2007</td>\n",
       "      <td>West</td>\n",
       "      <td>592.2029</td>\n",
       "      <td>Hour</td>\n",
       "      <td>Y</td>\n",
       "      <td>Denied</td>\n",
       "    </tr>\n",
       "    <tr>\n",
       "      <th>1</th>\n",
       "      <td>EZYV02</td>\n",
       "      <td>Asia</td>\n",
       "      <td>Master's</td>\n",
       "      <td>Y</td>\n",
       "      <td>N</td>\n",
       "      <td>2412</td>\n",
       "      <td>2002</td>\n",
       "      <td>Northeast</td>\n",
       "      <td>83425.6500</td>\n",
       "      <td>Year</td>\n",
       "      <td>Y</td>\n",
       "      <td>Certified</td>\n",
       "    </tr>\n",
       "    <tr>\n",
       "      <th>2</th>\n",
       "      <td>EZYV03</td>\n",
       "      <td>Asia</td>\n",
       "      <td>Bachelor's</td>\n",
       "      <td>N</td>\n",
       "      <td>Y</td>\n",
       "      <td>44444</td>\n",
       "      <td>2008</td>\n",
       "      <td>West</td>\n",
       "      <td>122996.8600</td>\n",
       "      <td>Year</td>\n",
       "      <td>Y</td>\n",
       "      <td>Denied</td>\n",
       "    </tr>\n",
       "    <tr>\n",
       "      <th>3</th>\n",
       "      <td>EZYV04</td>\n",
       "      <td>Asia</td>\n",
       "      <td>Bachelor's</td>\n",
       "      <td>N</td>\n",
       "      <td>N</td>\n",
       "      <td>98</td>\n",
       "      <td>1897</td>\n",
       "      <td>West</td>\n",
       "      <td>83434.0300</td>\n",
       "      <td>Year</td>\n",
       "      <td>Y</td>\n",
       "      <td>Denied</td>\n",
       "    </tr>\n",
       "    <tr>\n",
       "      <th>4</th>\n",
       "      <td>EZYV05</td>\n",
       "      <td>Africa</td>\n",
       "      <td>Master's</td>\n",
       "      <td>Y</td>\n",
       "      <td>N</td>\n",
       "      <td>1082</td>\n",
       "      <td>2005</td>\n",
       "      <td>South</td>\n",
       "      <td>149907.3900</td>\n",
       "      <td>Year</td>\n",
       "      <td>Y</td>\n",
       "      <td>Certified</td>\n",
       "    </tr>\n",
       "  </tbody>\n",
       "</table>\n",
       "</div>"
      ],
      "text/plain": [
       "  case_id continent education_of_employee has_job_experience  \\\n",
       "0  EZYV01      Asia           High School                  N   \n",
       "1  EZYV02      Asia              Master's                  Y   \n",
       "2  EZYV03      Asia            Bachelor's                  N   \n",
       "3  EZYV04      Asia            Bachelor's                  N   \n",
       "4  EZYV05    Africa              Master's                  Y   \n",
       "\n",
       "  requires_job_training  no_of_employees  yr_of_estab region_of_employment  \\\n",
       "0                     N            14513         2007                 West   \n",
       "1                     N             2412         2002            Northeast   \n",
       "2                     Y            44444         2008                 West   \n",
       "3                     N               98         1897                 West   \n",
       "4                     N             1082         2005                South   \n",
       "\n",
       "   prevailing_wage unit_of_wage full_time_position case_status  \n",
       "0         592.2029         Hour                  Y      Denied  \n",
       "1       83425.6500         Year                  Y   Certified  \n",
       "2      122996.8600         Year                  Y      Denied  \n",
       "3       83434.0300         Year                  Y      Denied  \n",
       "4      149907.3900         Year                  Y   Certified  "
      ]
     },
     "execution_count": 3,
     "metadata": {},
     "output_type": "execute_result"
    }
   ],
   "source": [
    "visadata.head()"
   ]
  },
  {
   "cell_type": "markdown",
   "id": "9ebab1aa-47c3-44a0-b495-53df39030ab2",
   "metadata": {},
   "source": [
    "# box plot"
   ]
  },
  {
   "cell_type": "markdown",
   "id": "798141a1-664b-4400-b96e-2f6b4d217eaa",
   "metadata": {},
   "source": [
    "- Box plot has min q1 q2 q3 max values\n",
    "\n",
    "-inside box plot red line represents median which is 50 percentile\n",
    "\n",
    "- Mild Outliers\n",
    "\n",
    "- q1-1.5IQR  and q3+1.5IQR\n",
    "\n",
    "- strong outliers\n",
    "\n",
    "- q1-3.0*IQR and q3+3*IQR\n",
    "\n",
    "- iQR=q3-q1\n",
    "\n",
    "- q1=25p\n",
    "\n",
    "- q2=50p\n",
    "\n",
    "- q3=75p"
   ]
  },
  {
   "cell_type": "code",
   "execution_count": 4,
   "id": "15cb4798-adc2-4467-b7c3-70f048e4f3f7",
   "metadata": {},
   "outputs": [
    {
     "data": {
      "text/plain": [
       "{'whiskers': [<matplotlib.lines.Line2D at 0x168b38e50>,\n",
       "  <matplotlib.lines.Line2D at 0x168b4d910>],\n",
       " 'caps': [<matplotlib.lines.Line2D at 0x168b60c10>,\n",
       "  <matplotlib.lines.Line2D at 0x168b726d0>],\n",
       " 'boxes': [<matplotlib.lines.Line2D at 0x168b2e410>],\n",
       " 'medians': [<matplotlib.lines.Line2D at 0x168b88bd0>],\n",
       " 'fliers': [<matplotlib.lines.Line2D at 0x168bb2550>],\n",
       " 'means': []}"
      ]
     },
     "execution_count": 4,
     "metadata": {},
     "output_type": "execute_result"
    },
    {
     "data": {
      "image/png": "[encoded data removed]",
      "text/plain": [
       "<Figure size 640x480 with 1 Axes>"
      ]
     },
     "metadata": {},
     "output_type": "display_data"
    }
   ],
   "source": [
    "plt.boxplot(visadata[\"prevailing_wage\"])"
   ]
  },
  {
   "cell_type": "code",
   "execution_count": 7,
   "id": "0bc09c03-d376-4f25-a5ec-f4c5a8c9c15b",
   "metadata": {},
   "outputs": [
    {
     "data": {
      "image/png": "[encoded data removed]",
      "text/plain": [
       "<Figure size 640x480 with 1 Axes>"
      ]
     },
     "metadata": {},
     "output_type": "display_data"
    }
   ],
   "source": [
    "plt.boxplot(visadata[\"prevailing_wage\"])\n",
    "plt.show()"
   ]
  },
  {
   "cell_type": "code",
   "execution_count": 8,
   "id": "631ed164-ff25-4a57-98bf-0a1243248811",
   "metadata": {},
   "outputs": [
    {
     "data": {
      "image/png": "[encoded data removed]",
      "text/plain": [
       "<Figure size 640x480 with 1 Axes>"
      ]
     },
     "metadata": {},
     "output_type": "display_data"
    }
   ],
   "source": [
    "#to change plot to horizental we need to use vert proeprty \n",
    "plt.boxplot(visadata[\"prevailing_wage\"],vert=False)\n",
    "plt.show()"
   ]
  },
  {
   "cell_type": "code",
   "execution_count": 10,
   "id": "342dd72f-39cd-4def-8d6a-9d0469598e1d",
   "metadata": {},
   "outputs": [
    {
     "data": {
      "text/plain": [
       "<Axes: >"
      ]
     },
     "execution_count": 10,
     "metadata": {},
     "output_type": "execute_result"
    },
    {
     "data": {
      "image/png": "[encoded data removed]",
      "text/plain": [
       "<Figure size 640x480 with 1 Axes>"
      ]
     },
     "metadata": {},
     "output_type": "display_data"
    }
   ],
   "source": [
    "#by using seaborn\n",
    "sns.boxplot(visadata[\"prevailing_wage\"])"
   ]
  },
  {
   "cell_type": "code",
   "execution_count": 11,
   "id": "4aa82598-9678-4542-b83f-090e2fa82393",
   "metadata": {},
   "outputs": [
    {
     "data": {
      "text/plain": [
       "<Axes: >"
      ]
     },
     "execution_count": 11,
     "metadata": {},
     "output_type": "execute_result"
    },
    {
     "data": {
      "image/png": "[encoded data removed]",
      "text/plain": [
       "<Figure size 640x480 with 1 Axes>"
      ]
     },
     "metadata": {},
     "output_type": "display_data"
    }
   ],
   "source": [
    "sns.boxplot(visadata[\"prevailing_wage\"],orient='h')"
   ]
  },
  {
   "cell_type": "code",
   "execution_count": 14,
   "id": "de27bab8-a16d-4a86-86df-dc592459c29e",
   "metadata": {},
   "outputs": [
    {
     "data": {
      "text/plain": [
       "{'whiskers': [<matplotlib.lines.Line2D at 0x151522890>,\n",
       "  <matplotlib.lines.Line2D at 0x151523990>],\n",
       " 'caps': [<matplotlib.lines.Line2D at 0x151528950>,\n",
       "  <matplotlib.lines.Line2D at 0x151529990>],\n",
       " 'boxes': [<matplotlib.lines.Line2D at 0x151521bd0>],\n",
       " 'medians': [<matplotlib.lines.Line2D at 0x15152a950>],\n",
       " 'fliers': [<matplotlib.lines.Line2D at 0x15152bbd0>],\n",
       " 'means': []}"
      ]
     },
     "execution_count": 14,
     "metadata": {},
     "output_type": "execute_result"
    },
    {
     "data": {
      "image/png": "[encoded data removed]",
      "text/plain": [
       "<Figure size 1400x500 with 3 Axes>"
      ]
     },
     "metadata": {},
     "output_type": "display_data"
    }
   ],
   "source": [
    "plt.figure(figsize=(14,5))\n",
    "plt.plot(1,2)\n",
    "plt.subplot(1,2,1).hist(visadata[\"prevailing_wage\"])\n",
    "plt.subplot(1,2,2).boxplot(visadata[\"prevailing_wage\"])"
   ]
  },
  {
   "cell_type": "code",
   "execution_count": 15,
   "id": "1e5a9536-1bae-4fe0-96ba-a736e731d9cc",
   "metadata": {},
   "outputs": [],
   "source": [
    "#outlier analyiss"
   ]
  },
  {
   "cell_type": "code",
   "execution_count": 16,
   "id": "ed80680d-659d-4166-a1a2-51edfde1b08b",
   "metadata": {},
   "outputs": [],
   "source": [
    "# find number of outliers\n",
    "\n",
    "#we need use percentiles not quantiles"
   ]
  },
  {
   "cell_type": "code",
   "execution_count": 17,
   "id": "4ef9e855-026d-49f3-87a0-cf141663e578",
   "metadata": {},
   "outputs": [],
   "source": [
    "mean=round(visadata[\"prevailing_wage\"].mean(),2)"
   ]
  },
  {
   "cell_type": "code",
   "execution_count": 18,
   "id": "6ee2653e-35c0-44dd-a71a-ea89390bbfa7",
   "metadata": {},
   "outputs": [
    {
     "data": {
      "text/plain": [
       "74455.81"
      ]
     },
     "execution_count": 18,
     "metadata": {},
     "output_type": "execute_result"
    }
   ],
   "source": [
    "mean"
   ]
  },
  {
   "cell_type": "code",
   "execution_count": 19,
   "id": "b4959b1d-fe2a-4398-9891-c8c99712a02b",
   "metadata": {},
   "outputs": [],
   "source": [
    "q1=round(np.percentile(visadata['prevailing_wage'],25),2)\n",
    "q2=round(np.percentile(visadata['prevailing_wage'],50),2)\n",
    "q3=round(np.percentile(visadata['prevailing_wage'],75),2)"
   ]
  },
  {
   "cell_type": "code",
   "execution_count": 20,
   "id": "c6e0fbf2-c4cd-4888-8bac-e9e1e2c2abfa",
   "metadata": {},
   "outputs": [],
   "source": [
    "iqr=q3-q1"
   ]
  },
  {
   "cell_type": "code",
   "execution_count": 21,
   "id": "273d0173-f552-47bb-9ebc-42506b54a7f0",
   "metadata": {},
   "outputs": [],
   "source": [
    "lowerboundary=q1-1.5*(iqr)"
   ]
  },
  {
   "cell_type": "code",
   "execution_count": 23,
   "id": "aa1110e9-23df-428d-a275-c612b3842970",
   "metadata": {},
   "outputs": [
    {
     "data": {
      "text/plain": [
       "-76564.565"
      ]
     },
     "execution_count": 23,
     "metadata": {},
     "output_type": "execute_result"
    }
   ],
   "source": [
    "lowerboundary"
   ]
  },
  {
   "cell_type": "code",
   "execution_count": 22,
   "id": "0ec5bdaa-7cf8-4cce-93f5-a7ea83b4d6dc",
   "metadata": {},
   "outputs": [],
   "source": [
    "upperboundary=q3+1.5*(iqr)"
   ]
  },
  {
   "cell_type": "code",
   "execution_count": 24,
   "id": "4886513b-24e9-4ed0-8d4d-1c442202ff3b",
   "metadata": {},
   "outputs": [
    {
     "data": {
      "text/plain": [
       "218315.555"
      ]
     },
     "execution_count": 24,
     "metadata": {},
     "output_type": "execute_result"
    }
   ],
   "source": [
    "upperboundary"
   ]
  },
  {
   "cell_type": "code",
   "execution_count": 25,
   "id": "90d45304-2295-42f4-85ad-bf9ab75bd4f1",
   "metadata": {},
   "outputs": [],
   "source": [
    "con1=visadata[\"prevailing_wage\"]<lowerboundary"
   ]
  },
  {
   "cell_type": "code",
   "execution_count": 26,
   "id": "cab66667-88ab-4141-9d9a-3d3dcdd40bdd",
   "metadata": {},
   "outputs": [
    {
     "data": {
      "text/plain": [
       "0        False\n",
       "1        False\n",
       "2        False\n",
       "3        False\n",
       "4        False\n",
       "         ...  \n",
       "25475    False\n",
       "25476    False\n",
       "25477    False\n",
       "25478    False\n",
       "25479    False\n",
       "Name: prevailing_wage, Length: 25480, dtype: bool"
      ]
     },
     "execution_count": 26,
     "metadata": {},
     "output_type": "execute_result"
    }
   ],
   "source": [
    "con1"
   ]
  },
  {
   "cell_type": "code",
   "execution_count": 27,
   "id": "acf4b8b1-f77b-43a6-a6ff-c2caae2832d0",
   "metadata": {},
   "outputs": [],
   "source": [
    "con2=visadata[\"prevailing_wage\"]>upperboundary"
   ]
  },
  {
   "cell_type": "code",
   "execution_count": 28,
   "id": "b6319c73-9468-4278-92b3-81383a343322",
   "metadata": {},
   "outputs": [
    {
     "data": {
      "text/plain": [
       "0        False\n",
       "1        False\n",
       "2        False\n",
       "3        False\n",
       "4        False\n",
       "         ...  \n",
       "25475    False\n",
       "25476     True\n",
       "25477    False\n",
       "25478    False\n",
       "25479    False\n",
       "Name: prevailing_wage, Length: 25480, dtype: bool"
      ]
     },
     "execution_count": 28,
     "metadata": {},
     "output_type": "execute_result"
    }
   ],
   "source": [
    "con2"
   ]
  },
  {
   "cell_type": "code",
   "execution_count": 34,
   "id": "b2d5c395-7304-4b6e-b772-de0652fa6daa",
   "metadata": {},
   "outputs": [],
   "source": [
    "outliersdata=visadata[con1 | con2]"
   ]
  },
  {
   "cell_type": "code",
   "execution_count": 35,
   "id": "015c51ec-14f1-4f4d-9f82-62650c487a9f",
   "metadata": {},
   "outputs": [
    {
     "data": {
      "text/html": [
       "<div>\n",
       "<style scoped>\n",
       "    .dataframe tbody tr th:only-of-type {\n",
       "        vertical-align: middle;\n",
       "    }\n",
       "\n",
       "    .dataframe tbody tr th {\n",
       "        vertical-align: top;\n",
       "    }\n",
       "\n",
       "    .dataframe thead th {\n",
       "        text-align: right;\n",
       "    }\n",
       "</style>\n",
       "<table border=\"1\" class=\"dataframe\">\n",
       "  <thead>\n",
       "    <tr style=\"text-align: right;\">\n",
       "      <th></th>\n",
       "      <th>case_id</th>\n",
       "      <th>continent</th>\n",
       "      <th>education_of_employee</th>\n",
       "      <th>has_job_experience</th>\n",
       "      <th>requires_job_training</th>\n",
       "      <th>no_of_employees</th>\n",
       "      <th>yr_of_estab</th>\n",
       "      <th>region_of_employment</th>\n",
       "      <th>prevailing_wage</th>\n",
       "      <th>unit_of_wage</th>\n",
       "      <th>full_time_position</th>\n",
       "      <th>case_status</th>\n",
       "    </tr>\n",
       "  </thead>\n",
       "  <tbody>\n",
       "    <tr>\n",
       "      <th>14</th>\n",
       "      <td>EZYV15</td>\n",
       "      <td>Asia</td>\n",
       "      <td>Master's</td>\n",
       "      <td>Y</td>\n",
       "      <td>Y</td>\n",
       "      <td>15756</td>\n",
       "      <td>2006</td>\n",
       "      <td>South</td>\n",
       "      <td>220081.73</td>\n",
       "      <td>Year</td>\n",
       "      <td>Y</td>\n",
       "      <td>Certified</td>\n",
       "    </tr>\n",
       "    <tr>\n",
       "      <th>34</th>\n",
       "      <td>EZYV35</td>\n",
       "      <td>Asia</td>\n",
       "      <td>Master's</td>\n",
       "      <td>N</td>\n",
       "      <td>N</td>\n",
       "      <td>1809</td>\n",
       "      <td>2010</td>\n",
       "      <td>South</td>\n",
       "      <td>225569.73</td>\n",
       "      <td>Year</td>\n",
       "      <td>N</td>\n",
       "      <td>Certified</td>\n",
       "    </tr>\n",
       "    <tr>\n",
       "      <th>130</th>\n",
       "      <td>EZYV131</td>\n",
       "      <td>South America</td>\n",
       "      <td>High School</td>\n",
       "      <td>N</td>\n",
       "      <td>N</td>\n",
       "      <td>2554</td>\n",
       "      <td>2005</td>\n",
       "      <td>Midwest</td>\n",
       "      <td>247393.01</td>\n",
       "      <td>Year</td>\n",
       "      <td>Y</td>\n",
       "      <td>Certified</td>\n",
       "    </tr>\n",
       "    <tr>\n",
       "      <th>216</th>\n",
       "      <td>EZYV217</td>\n",
       "      <td>Asia</td>\n",
       "      <td>Master's</td>\n",
       "      <td>Y</td>\n",
       "      <td>N</td>\n",
       "      <td>1515</td>\n",
       "      <td>2001</td>\n",
       "      <td>Midwest</td>\n",
       "      <td>269321.68</td>\n",
       "      <td>Year</td>\n",
       "      <td>N</td>\n",
       "      <td>Certified</td>\n",
       "    </tr>\n",
       "    <tr>\n",
       "      <th>221</th>\n",
       "      <td>EZYV222</td>\n",
       "      <td>North America</td>\n",
       "      <td>Doctorate</td>\n",
       "      <td>Y</td>\n",
       "      <td>Y</td>\n",
       "      <td>2518</td>\n",
       "      <td>2010</td>\n",
       "      <td>South</td>\n",
       "      <td>219529.62</td>\n",
       "      <td>Year</td>\n",
       "      <td>Y</td>\n",
       "      <td>Certified</td>\n",
       "    </tr>\n",
       "    <tr>\n",
       "      <th>...</th>\n",
       "      <td>...</td>\n",
       "      <td>...</td>\n",
       "      <td>...</td>\n",
       "      <td>...</td>\n",
       "      <td>...</td>\n",
       "      <td>...</td>\n",
       "      <td>...</td>\n",
       "      <td>...</td>\n",
       "      <td>...</td>\n",
       "      <td>...</td>\n",
       "      <td>...</td>\n",
       "      <td>...</td>\n",
       "    </tr>\n",
       "    <tr>\n",
       "      <th>25191</th>\n",
       "      <td>EZYV25192</td>\n",
       "      <td>Asia</td>\n",
       "      <td>Master's</td>\n",
       "      <td>N</td>\n",
       "      <td>N</td>\n",
       "      <td>4983</td>\n",
       "      <td>2005</td>\n",
       "      <td>Midwest</td>\n",
       "      <td>280482.51</td>\n",
       "      <td>Year</td>\n",
       "      <td>Y</td>\n",
       "      <td>Denied</td>\n",
       "    </tr>\n",
       "    <tr>\n",
       "      <th>25195</th>\n",
       "      <td>EZYV25196</td>\n",
       "      <td>North America</td>\n",
       "      <td>Master's</td>\n",
       "      <td>Y</td>\n",
       "      <td>N</td>\n",
       "      <td>47</td>\n",
       "      <td>2001</td>\n",
       "      <td>South</td>\n",
       "      <td>234308.77</td>\n",
       "      <td>Year</td>\n",
       "      <td>N</td>\n",
       "      <td>Certified</td>\n",
       "    </tr>\n",
       "    <tr>\n",
       "      <th>25468</th>\n",
       "      <td>EZYV25469</td>\n",
       "      <td>Asia</td>\n",
       "      <td>Bachelor's</td>\n",
       "      <td>N</td>\n",
       "      <td>N</td>\n",
       "      <td>373</td>\n",
       "      <td>2005</td>\n",
       "      <td>Midwest</td>\n",
       "      <td>272715.74</td>\n",
       "      <td>Year</td>\n",
       "      <td>N</td>\n",
       "      <td>Certified</td>\n",
       "    </tr>\n",
       "    <tr>\n",
       "      <th>25469</th>\n",
       "      <td>EZYV25470</td>\n",
       "      <td>North America</td>\n",
       "      <td>Master's</td>\n",
       "      <td>Y</td>\n",
       "      <td>N</td>\n",
       "      <td>2261</td>\n",
       "      <td>1997</td>\n",
       "      <td>Northeast</td>\n",
       "      <td>273772.47</td>\n",
       "      <td>Year</td>\n",
       "      <td>N</td>\n",
       "      <td>Certified</td>\n",
       "    </tr>\n",
       "    <tr>\n",
       "      <th>25476</th>\n",
       "      <td>EZYV25477</td>\n",
       "      <td>Asia</td>\n",
       "      <td>High School</td>\n",
       "      <td>Y</td>\n",
       "      <td>N</td>\n",
       "      <td>3274</td>\n",
       "      <td>2006</td>\n",
       "      <td>Northeast</td>\n",
       "      <td>279174.79</td>\n",
       "      <td>Year</td>\n",
       "      <td>Y</td>\n",
       "      <td>Certified</td>\n",
       "    </tr>\n",
       "  </tbody>\n",
       "</table>\n",
       "<p>427 rows × 12 columns</p>\n",
       "</div>"
      ],
      "text/plain": [
       "         case_id      continent education_of_employee has_job_experience  \\\n",
       "14        EZYV15           Asia              Master's                  Y   \n",
       "34        EZYV35           Asia              Master's                  N   \n",
       "130      EZYV131  South America           High School                  N   \n",
       "216      EZYV217           Asia              Master's                  Y   \n",
       "221      EZYV222  North America             Doctorate                  Y   \n",
       "...          ...            ...                   ...                ...   \n",
       "25191  EZYV25192           Asia              Master's                  N   \n",
       "25195  EZYV25196  North America              Master's                  Y   \n",
       "25468  EZYV25469           Asia            Bachelor's                  N   \n",
       "25469  EZYV25470  North America              Master's                  Y   \n",
       "25476  EZYV25477           Asia           High School                  Y   \n",
       "\n",
       "      requires_job_training  no_of_employees  yr_of_estab  \\\n",
       "14                        Y            15756         2006   \n",
       "34                        N             1809         2010   \n",
       "130                       N             2554         2005   \n",
       "216                       N             1515         2001   \n",
       "221                       Y             2518         2010   \n",
       "...                     ...              ...          ...   \n",
       "25191                     N             4983         2005   \n",
       "25195                     N               47         2001   \n",
       "25468                     N              373         2005   \n",
       "25469                     N             2261         1997   \n",
       "25476                     N             3274         2006   \n",
       "\n",
       "      region_of_employment  prevailing_wage unit_of_wage full_time_position  \\\n",
       "14                   South        220081.73         Year                  Y   \n",
       "34                   South        225569.73         Year                  N   \n",
       "130                Midwest        247393.01         Year                  Y   \n",
       "216                Midwest        269321.68         Year                  N   \n",
       "221                  South        219529.62         Year                  Y   \n",
       "...                    ...              ...          ...                ...   \n",
       "25191              Midwest        280482.51         Year                  Y   \n",
       "25195                South        234308.77         Year                  N   \n",
       "25468              Midwest        272715.74         Year                  N   \n",
       "25469            Northeast        273772.47         Year                  N   \n",
       "25476            Northeast        279174.79         Year                  Y   \n",
       "\n",
       "      case_status  \n",
       "14      Certified  \n",
       "34      Certified  \n",
       "130     Certified  \n",
       "216     Certified  \n",
       "221     Certified  \n",
       "...           ...  \n",
       "25191      Denied  \n",
       "25195   Certified  \n",
       "25468   Certified  \n",
       "25469   Certified  \n",
       "25476   Certified  \n",
       "\n",
       "[427 rows x 12 columns]"
      ]
     },
     "execution_count": 35,
     "metadata": {},
     "output_type": "execute_result"
    }
   ],
   "source": [
    "outliersdata"
   ]
  },
  {
   "cell_type": "code",
   "execution_count": 36,
   "id": "6d127fbc-3a30-4c5f-b442-2cf91757f978",
   "metadata": {},
   "outputs": [
    {
     "data": {
      "text/plain": [
       "427"
      ]
     },
     "execution_count": 36,
     "metadata": {},
     "output_type": "execute_result"
    }
   ],
   "source": [
    "len(outliersdata)"
   ]
  },
  {
   "cell_type": "code",
   "execution_count": 40,
   "id": "23d777b8-6680-4d1b-b6fc-7aee92cf095d",
   "metadata": {},
   "outputs": [
    {
     "data": {
      "text/html": [
       "<div>\n",
       "<style scoped>\n",
       "    .dataframe tbody tr th:only-of-type {\n",
       "        vertical-align: middle;\n",
       "    }\n",
       "\n",
       "    .dataframe tbody tr th {\n",
       "        vertical-align: top;\n",
       "    }\n",
       "\n",
       "    .dataframe thead th {\n",
       "        text-align: right;\n",
       "    }\n",
       "</style>\n",
       "<table border=\"1\" class=\"dataframe\">\n",
       "  <thead>\n",
       "    <tr style=\"text-align: right;\">\n",
       "      <th></th>\n",
       "      <th>case_id</th>\n",
       "      <th>continent</th>\n",
       "      <th>education_of_employee</th>\n",
       "      <th>has_job_experience</th>\n",
       "      <th>requires_job_training</th>\n",
       "      <th>no_of_employees</th>\n",
       "      <th>yr_of_estab</th>\n",
       "      <th>region_of_employment</th>\n",
       "      <th>prevailing_wage</th>\n",
       "      <th>unit_of_wage</th>\n",
       "      <th>full_time_position</th>\n",
       "      <th>case_status</th>\n",
       "    </tr>\n",
       "  </thead>\n",
       "  <tbody>\n",
       "    <tr>\n",
       "      <th>14</th>\n",
       "      <td>EZYV15</td>\n",
       "      <td>Asia</td>\n",
       "      <td>Master's</td>\n",
       "      <td>Y</td>\n",
       "      <td>Y</td>\n",
       "      <td>15756</td>\n",
       "      <td>2006</td>\n",
       "      <td>South</td>\n",
       "      <td>220081.73</td>\n",
       "      <td>Year</td>\n",
       "      <td>Y</td>\n",
       "      <td>Certified</td>\n",
       "    </tr>\n",
       "    <tr>\n",
       "      <th>34</th>\n",
       "      <td>EZYV35</td>\n",
       "      <td>Asia</td>\n",
       "      <td>Master's</td>\n",
       "      <td>N</td>\n",
       "      <td>N</td>\n",
       "      <td>1809</td>\n",
       "      <td>2010</td>\n",
       "      <td>South</td>\n",
       "      <td>225569.73</td>\n",
       "      <td>Year</td>\n",
       "      <td>N</td>\n",
       "      <td>Certified</td>\n",
       "    </tr>\n",
       "    <tr>\n",
       "      <th>130</th>\n",
       "      <td>EZYV131</td>\n",
       "      <td>South America</td>\n",
       "      <td>High School</td>\n",
       "      <td>N</td>\n",
       "      <td>N</td>\n",
       "      <td>2554</td>\n",
       "      <td>2005</td>\n",
       "      <td>Midwest</td>\n",
       "      <td>247393.01</td>\n",
       "      <td>Year</td>\n",
       "      <td>Y</td>\n",
       "      <td>Certified</td>\n",
       "    </tr>\n",
       "    <tr>\n",
       "      <th>216</th>\n",
       "      <td>EZYV217</td>\n",
       "      <td>Asia</td>\n",
       "      <td>Master's</td>\n",
       "      <td>Y</td>\n",
       "      <td>N</td>\n",
       "      <td>1515</td>\n",
       "      <td>2001</td>\n",
       "      <td>Midwest</td>\n",
       "      <td>269321.68</td>\n",
       "      <td>Year</td>\n",
       "      <td>N</td>\n",
       "      <td>Certified</td>\n",
       "    </tr>\n",
       "    <tr>\n",
       "      <th>221</th>\n",
       "      <td>EZYV222</td>\n",
       "      <td>North America</td>\n",
       "      <td>Doctorate</td>\n",
       "      <td>Y</td>\n",
       "      <td>Y</td>\n",
       "      <td>2518</td>\n",
       "      <td>2010</td>\n",
       "      <td>South</td>\n",
       "      <td>219529.62</td>\n",
       "      <td>Year</td>\n",
       "      <td>Y</td>\n",
       "      <td>Certified</td>\n",
       "    </tr>\n",
       "    <tr>\n",
       "      <th>...</th>\n",
       "      <td>...</td>\n",
       "      <td>...</td>\n",
       "      <td>...</td>\n",
       "      <td>...</td>\n",
       "      <td>...</td>\n",
       "      <td>...</td>\n",
       "      <td>...</td>\n",
       "      <td>...</td>\n",
       "      <td>...</td>\n",
       "      <td>...</td>\n",
       "      <td>...</td>\n",
       "      <td>...</td>\n",
       "    </tr>\n",
       "    <tr>\n",
       "      <th>25191</th>\n",
       "      <td>EZYV25192</td>\n",
       "      <td>Asia</td>\n",
       "      <td>Master's</td>\n",
       "      <td>N</td>\n",
       "      <td>N</td>\n",
       "      <td>4983</td>\n",
       "      <td>2005</td>\n",
       "      <td>Midwest</td>\n",
       "      <td>280482.51</td>\n",
       "      <td>Year</td>\n",
       "      <td>Y</td>\n",
       "      <td>Denied</td>\n",
       "    </tr>\n",
       "    <tr>\n",
       "      <th>25195</th>\n",
       "      <td>EZYV25196</td>\n",
       "      <td>North America</td>\n",
       "      <td>Master's</td>\n",
       "      <td>Y</td>\n",
       "      <td>N</td>\n",
       "      <td>47</td>\n",
       "      <td>2001</td>\n",
       "      <td>South</td>\n",
       "      <td>234308.77</td>\n",
       "      <td>Year</td>\n",
       "      <td>N</td>\n",
       "      <td>Certified</td>\n",
       "    </tr>\n",
       "    <tr>\n",
       "      <th>25468</th>\n",
       "      <td>EZYV25469</td>\n",
       "      <td>Asia</td>\n",
       "      <td>Bachelor's</td>\n",
       "      <td>N</td>\n",
       "      <td>N</td>\n",
       "      <td>373</td>\n",
       "      <td>2005</td>\n",
       "      <td>Midwest</td>\n",
       "      <td>272715.74</td>\n",
       "      <td>Year</td>\n",
       "      <td>N</td>\n",
       "      <td>Certified</td>\n",
       "    </tr>\n",
       "    <tr>\n",
       "      <th>25469</th>\n",
       "      <td>EZYV25470</td>\n",
       "      <td>North America</td>\n",
       "      <td>Master's</td>\n",
       "      <td>Y</td>\n",
       "      <td>N</td>\n",
       "      <td>2261</td>\n",
       "      <td>1997</td>\n",
       "      <td>Northeast</td>\n",
       "      <td>273772.47</td>\n",
       "      <td>Year</td>\n",
       "      <td>N</td>\n",
       "      <td>Certified</td>\n",
       "    </tr>\n",
       "    <tr>\n",
       "      <th>25476</th>\n",
       "      <td>EZYV25477</td>\n",
       "      <td>Asia</td>\n",
       "      <td>High School</td>\n",
       "      <td>Y</td>\n",
       "      <td>N</td>\n",
       "      <td>3274</td>\n",
       "      <td>2006</td>\n",
       "      <td>Northeast</td>\n",
       "      <td>279174.79</td>\n",
       "      <td>Year</td>\n",
       "      <td>Y</td>\n",
       "      <td>Certified</td>\n",
       "    </tr>\n",
       "  </tbody>\n",
       "</table>\n",
       "<p>427 rows × 12 columns</p>\n",
       "</div>"
      ],
      "text/plain": [
       "         case_id      continent education_of_employee has_job_experience  \\\n",
       "14        EZYV15           Asia              Master's                  Y   \n",
       "34        EZYV35           Asia              Master's                  N   \n",
       "130      EZYV131  South America           High School                  N   \n",
       "216      EZYV217           Asia              Master's                  Y   \n",
       "221      EZYV222  North America             Doctorate                  Y   \n",
       "...          ...            ...                   ...                ...   \n",
       "25191  EZYV25192           Asia              Master's                  N   \n",
       "25195  EZYV25196  North America              Master's                  Y   \n",
       "25468  EZYV25469           Asia            Bachelor's                  N   \n",
       "25469  EZYV25470  North America              Master's                  Y   \n",
       "25476  EZYV25477           Asia           High School                  Y   \n",
       "\n",
       "      requires_job_training  no_of_employees  yr_of_estab  \\\n",
       "14                        Y            15756         2006   \n",
       "34                        N             1809         2010   \n",
       "130                       N             2554         2005   \n",
       "216                       N             1515         2001   \n",
       "221                       Y             2518         2010   \n",
       "...                     ...              ...          ...   \n",
       "25191                     N             4983         2005   \n",
       "25195                     N               47         2001   \n",
       "25468                     N              373         2005   \n",
       "25469                     N             2261         1997   \n",
       "25476                     N             3274         2006   \n",
       "\n",
       "      region_of_employment  prevailing_wage unit_of_wage full_time_position  \\\n",
       "14                   South        220081.73         Year                  Y   \n",
       "34                   South        225569.73         Year                  N   \n",
       "130                Midwest        247393.01         Year                  Y   \n",
       "216                Midwest        269321.68         Year                  N   \n",
       "221                  South        219529.62         Year                  Y   \n",
       "...                    ...              ...          ...                ...   \n",
       "25191              Midwest        280482.51         Year                  Y   \n",
       "25195                South        234308.77         Year                  N   \n",
       "25468              Midwest        272715.74         Year                  N   \n",
       "25469            Northeast        273772.47         Year                  N   \n",
       "25476            Northeast        279174.79         Year                  Y   \n",
       "\n",
       "      case_status  \n",
       "14      Certified  \n",
       "34      Certified  \n",
       "130     Certified  \n",
       "216     Certified  \n",
       "221     Certified  \n",
       "...           ...  \n",
       "25191      Denied  \n",
       "25195   Certified  \n",
       "25468   Certified  \n",
       "25469   Certified  \n",
       "25476   Certified  \n",
       "\n",
       "[427 rows x 12 columns]"
      ]
     },
     "execution_count": 40,
     "metadata": {},
     "output_type": "execute_result"
    }
   ],
   "source": [
    "q1=round(np.percentile(visadata['prevailing_wage'],25),2)\n",
    "q2=round(np.percentile(visadata['prevailing_wage'],50),2)\n",
    "q3=round(np.percentile(visadata['prevailing_wage'],75),2)\n",
    "iqr=q3-q1\n",
    "lowerboundary=q1-1.5*(iqr)\n",
    "upperboundary=q3+1.5*(iqr)\n",
    "con1=visadata[\"prevailing_wage\"]<lowerboundary\n",
    "con2=visadata[\"prevailing_wage\"]>upperboundary\n",
    "outliersdata=visadata[con1 | con2]\n",
    "outliersdata"
   ]
  },
  {
   "cell_type": "markdown",
   "id": "35ac7cfc-5326-4302-a034-1e76ae7a0ea7",
   "metadata": {},
   "source": [
    "# Non outliers data"
   ]
  },
  {
   "cell_type": "code",
   "execution_count": 44,
   "id": "f364223f-5510-4517-9ee1-84126ac07f6a",
   "metadata": {},
   "outputs": [
    {
     "data": {
      "text/html": [
       "<div>\n",
       "<style scoped>\n",
       "    .dataframe tbody tr th:only-of-type {\n",
       "        vertical-align: middle;\n",
       "    }\n",
       "\n",
       "    .dataframe tbody tr th {\n",
       "        vertical-align: top;\n",
       "    }\n",
       "\n",
       "    .dataframe thead th {\n",
       "        text-align: right;\n",
       "    }\n",
       "</style>\n",
       "<table border=\"1\" class=\"dataframe\">\n",
       "  <thead>\n",
       "    <tr style=\"text-align: right;\">\n",
       "      <th></th>\n",
       "      <th>case_id</th>\n",
       "      <th>continent</th>\n",
       "      <th>education_of_employee</th>\n",
       "      <th>has_job_experience</th>\n",
       "      <th>requires_job_training</th>\n",
       "      <th>no_of_employees</th>\n",
       "      <th>yr_of_estab</th>\n",
       "      <th>region_of_employment</th>\n",
       "      <th>prevailing_wage</th>\n",
       "      <th>unit_of_wage</th>\n",
       "      <th>full_time_position</th>\n",
       "      <th>case_status</th>\n",
       "    </tr>\n",
       "  </thead>\n",
       "  <tbody>\n",
       "    <tr>\n",
       "      <th>0</th>\n",
       "      <td>EZYV01</td>\n",
       "      <td>Asia</td>\n",
       "      <td>High School</td>\n",
       "      <td>N</td>\n",
       "      <td>N</td>\n",
       "      <td>14513</td>\n",
       "      <td>2007</td>\n",
       "      <td>West</td>\n",
       "      <td>592.2029</td>\n",
       "      <td>Hour</td>\n",
       "      <td>Y</td>\n",
       "      <td>Denied</td>\n",
       "    </tr>\n",
       "    <tr>\n",
       "      <th>1</th>\n",
       "      <td>EZYV02</td>\n",
       "      <td>Asia</td>\n",
       "      <td>Master's</td>\n",
       "      <td>Y</td>\n",
       "      <td>N</td>\n",
       "      <td>2412</td>\n",
       "      <td>2002</td>\n",
       "      <td>Northeast</td>\n",
       "      <td>83425.6500</td>\n",
       "      <td>Year</td>\n",
       "      <td>Y</td>\n",
       "      <td>Certified</td>\n",
       "    </tr>\n",
       "    <tr>\n",
       "      <th>2</th>\n",
       "      <td>EZYV03</td>\n",
       "      <td>Asia</td>\n",
       "      <td>Bachelor's</td>\n",
       "      <td>N</td>\n",
       "      <td>Y</td>\n",
       "      <td>44444</td>\n",
       "      <td>2008</td>\n",
       "      <td>West</td>\n",
       "      <td>122996.8600</td>\n",
       "      <td>Year</td>\n",
       "      <td>Y</td>\n",
       "      <td>Denied</td>\n",
       "    </tr>\n",
       "    <tr>\n",
       "      <th>3</th>\n",
       "      <td>EZYV04</td>\n",
       "      <td>Asia</td>\n",
       "      <td>Bachelor's</td>\n",
       "      <td>N</td>\n",
       "      <td>N</td>\n",
       "      <td>98</td>\n",
       "      <td>1897</td>\n",
       "      <td>West</td>\n",
       "      <td>83434.0300</td>\n",
       "      <td>Year</td>\n",
       "      <td>Y</td>\n",
       "      <td>Denied</td>\n",
       "    </tr>\n",
       "    <tr>\n",
       "      <th>4</th>\n",
       "      <td>EZYV05</td>\n",
       "      <td>Africa</td>\n",
       "      <td>Master's</td>\n",
       "      <td>Y</td>\n",
       "      <td>N</td>\n",
       "      <td>1082</td>\n",
       "      <td>2005</td>\n",
       "      <td>South</td>\n",
       "      <td>149907.3900</td>\n",
       "      <td>Year</td>\n",
       "      <td>Y</td>\n",
       "      <td>Certified</td>\n",
       "    </tr>\n",
       "    <tr>\n",
       "      <th>...</th>\n",
       "      <td>...</td>\n",
       "      <td>...</td>\n",
       "      <td>...</td>\n",
       "      <td>...</td>\n",
       "      <td>...</td>\n",
       "      <td>...</td>\n",
       "      <td>...</td>\n",
       "      <td>...</td>\n",
       "      <td>...</td>\n",
       "      <td>...</td>\n",
       "      <td>...</td>\n",
       "      <td>...</td>\n",
       "    </tr>\n",
       "    <tr>\n",
       "      <th>25474</th>\n",
       "      <td>EZYV25475</td>\n",
       "      <td>Africa</td>\n",
       "      <td>Doctorate</td>\n",
       "      <td>N</td>\n",
       "      <td>N</td>\n",
       "      <td>2594</td>\n",
       "      <td>1979</td>\n",
       "      <td>Northeast</td>\n",
       "      <td>51104.7800</td>\n",
       "      <td>Year</td>\n",
       "      <td>Y</td>\n",
       "      <td>Certified</td>\n",
       "    </tr>\n",
       "    <tr>\n",
       "      <th>25475</th>\n",
       "      <td>EZYV25476</td>\n",
       "      <td>Asia</td>\n",
       "      <td>Bachelor's</td>\n",
       "      <td>Y</td>\n",
       "      <td>Y</td>\n",
       "      <td>2601</td>\n",
       "      <td>2008</td>\n",
       "      <td>South</td>\n",
       "      <td>77092.5700</td>\n",
       "      <td>Year</td>\n",
       "      <td>Y</td>\n",
       "      <td>Certified</td>\n",
       "    </tr>\n",
       "    <tr>\n",
       "      <th>25477</th>\n",
       "      <td>EZYV25478</td>\n",
       "      <td>Asia</td>\n",
       "      <td>Master's</td>\n",
       "      <td>Y</td>\n",
       "      <td>N</td>\n",
       "      <td>1121</td>\n",
       "      <td>1910</td>\n",
       "      <td>South</td>\n",
       "      <td>146298.8500</td>\n",
       "      <td>Year</td>\n",
       "      <td>N</td>\n",
       "      <td>Certified</td>\n",
       "    </tr>\n",
       "    <tr>\n",
       "      <th>25478</th>\n",
       "      <td>EZYV25479</td>\n",
       "      <td>Asia</td>\n",
       "      <td>Master's</td>\n",
       "      <td>Y</td>\n",
       "      <td>Y</td>\n",
       "      <td>1918</td>\n",
       "      <td>1887</td>\n",
       "      <td>West</td>\n",
       "      <td>86154.7700</td>\n",
       "      <td>Year</td>\n",
       "      <td>Y</td>\n",
       "      <td>Certified</td>\n",
       "    </tr>\n",
       "    <tr>\n",
       "      <th>25479</th>\n",
       "      <td>EZYV25480</td>\n",
       "      <td>Asia</td>\n",
       "      <td>Bachelor's</td>\n",
       "      <td>Y</td>\n",
       "      <td>N</td>\n",
       "      <td>3195</td>\n",
       "      <td>1960</td>\n",
       "      <td>Midwest</td>\n",
       "      <td>70876.9100</td>\n",
       "      <td>Year</td>\n",
       "      <td>Y</td>\n",
       "      <td>Certified</td>\n",
       "    </tr>\n",
       "  </tbody>\n",
       "</table>\n",
       "<p>25053 rows × 12 columns</p>\n",
       "</div>"
      ],
      "text/plain": [
       "         case_id continent education_of_employee has_job_experience  \\\n",
       "0         EZYV01      Asia           High School                  N   \n",
       "1         EZYV02      Asia              Master's                  Y   \n",
       "2         EZYV03      Asia            Bachelor's                  N   \n",
       "3         EZYV04      Asia            Bachelor's                  N   \n",
       "4         EZYV05    Africa              Master's                  Y   \n",
       "...          ...       ...                   ...                ...   \n",
       "25474  EZYV25475    Africa             Doctorate                  N   \n",
       "25475  EZYV25476      Asia            Bachelor's                  Y   \n",
       "25477  EZYV25478      Asia              Master's                  Y   \n",
       "25478  EZYV25479      Asia              Master's                  Y   \n",
       "25479  EZYV25480      Asia            Bachelor's                  Y   \n",
       "\n",
       "      requires_job_training  no_of_employees  yr_of_estab  \\\n",
       "0                         N            14513         2007   \n",
       "1                         N             2412         2002   \n",
       "2                         Y            44444         2008   \n",
       "3                         N               98         1897   \n",
       "4                         N             1082         2005   \n",
       "...                     ...              ...          ...   \n",
       "25474                     N             2594         1979   \n",
       "25475                     Y             2601         2008   \n",
       "25477                     N             1121         1910   \n",
       "25478                     Y             1918         1887   \n",
       "25479                     N             3195         1960   \n",
       "\n",
       "      region_of_employment  prevailing_wage unit_of_wage full_time_position  \\\n",
       "0                     West         592.2029         Hour                  Y   \n",
       "1                Northeast       83425.6500         Year                  Y   \n",
       "2                     West      122996.8600         Year                  Y   \n",
       "3                     West       83434.0300         Year                  Y   \n",
       "4                    South      149907.3900         Year                  Y   \n",
       "...                    ...              ...          ...                ...   \n",
       "25474            Northeast       51104.7800         Year                  Y   \n",
       "25475                South       77092.5700         Year                  Y   \n",
       "25477                South      146298.8500         Year                  N   \n",
       "25478                 West       86154.7700         Year                  Y   \n",
       "25479              Midwest       70876.9100         Year                  Y   \n",
       "\n",
       "      case_status  \n",
       "0          Denied  \n",
       "1       Certified  \n",
       "2          Denied  \n",
       "3          Denied  \n",
       "4       Certified  \n",
       "...           ...  \n",
       "25474   Certified  \n",
       "25475   Certified  \n",
       "25477   Certified  \n",
       "25478   Certified  \n",
       "25479   Certified  \n",
       "\n",
       "[25053 rows x 12 columns]"
      ]
     },
     "execution_count": 44,
     "metadata": {},
     "output_type": "execute_result"
    }
   ],
   "source": [
    "q1=round(np.percentile(visadata['prevailing_wage'],25),2)\n",
    "q2=round(np.percentile(visadata['prevailing_wage'],50),2)\n",
    "q3=round(np.percentile(visadata['prevailing_wage'],75),2)\n",
    "iqr=q3-q1\n",
    "lowerboundary=q1-1.5*(iqr)\n",
    "upperboundary=q3+1.5*(iqr)\n",
    "con1=visadata[\"prevailing_wage\"]>lowerboundary\n",
    "con2=visadata[\"prevailing_wage\"]<upperboundary\n",
    "nonoutliersdata=visadata[con1 & con2]\n",
    "nonoutliersdata"
   ]
  },
  {
   "cell_type": "code",
   "execution_count": 46,
   "id": "435352b2-f126-47d4-8364-f2e1d37bfe17",
   "metadata": {},
   "outputs": [],
   "source": [
    "#histogram and boxplot for nonoutliers data"
   ]
  },
  {
   "cell_type": "code",
   "execution_count": 45,
   "id": "256c8832-fee6-4996-b3e6-2521a5e1596a",
   "metadata": {},
   "outputs": [
    {
     "data": {
      "image/png": "[encoded data removed]",
      "text/plain": [
       "<Figure size 1400x500 with 2 Axes>"
      ]
     },
     "metadata": {},
     "output_type": "display_data"
    }
   ],
   "source": [
    "plt.figure(figsize=(14,5))\n",
    "plt.subplot(1,2,1).hist(nonoutliersdata['prevailing_wage'])\n",
    "plt.subplot(1,2,2).boxplot(nonoutliersdata['prevailing_wage'])\n",
    "plt.show()"
   ]
  },
  {
   "cell_type": "code",
   "execution_count": 47,
   "id": "131921ce-4d31-4eb0-a103-5c2983fabf67",
   "metadata": {},
   "outputs": [
    {
     "data": {
      "image/png": "[encoded data removed]",
      "text/plain": [
       "<Figure size 1400x500 with 2 Axes>"
      ]
     },
     "metadata": {},
     "output_type": "display_data"
    }
   ],
   "source": [
    "plt.figure(figsize=(14,5))\n",
    "plt.subplot(1,2,1).hist(nonoutliersdata['prevailing_wage'])\n",
    "plt.subplot(1,2,1).hist(visadata['prevailing_wage'])\n",
    "plt.subplot(1,2,2).boxplot(nonoutliersdata['prevailing_wage'])\n",
    "plt.subplot(1,2,2).boxplot(visadata['prevailing_wage'])\n",
    "plt.show()"
   ]
  },
  {
   "cell_type": "code",
   "execution_count": null,
   "id": "593789cd-b6b8-40d0-b4bc-7d9d215280a2",
   "metadata": {},
   "outputs": [],
   "source": [
    "# coparing total data with nonoutliers data"
   ]
  },
  {
   "cell_type": "code",
   "execution_count": 49,
   "id": "b05ee498-5d8b-45be-8bb6-c95ad522408a",
   "metadata": {},
   "outputs": [
    {
     "data": {
      "image/png": "[encoded data removed]",
      "text/plain": [
       "<Figure size 1400x500 with 4 Axes>"
      ]
     },
     "metadata": {},
     "output_type": "display_data"
    }
   ],
   "source": [
    "plt.figure(figsize=(14,5))\n",
    "plt.suptitle(\"non -outliers data\")\n",
    "plt.subplot(2,2,1).hist(nonoutliersdata['prevailing_wage'])\n",
    "plt.subplot(2,2,2).hist(visadata['prevailing_wage'])\n",
    "plt.suptitle(\"complete data\")\n",
    "plt.subplot(2,2,3).boxplot(nonoutliersdata['prevailing_wage'])\n",
    "plt.subplot(2,2,4).boxplot(visadata['prevailing_wage'])\n",
    "plt.show()"
   ]
  },
  {
   "cell_type": "code",
   "execution_count": 50,
   "id": "c9c059af-4d88-48ad-b7f8-5e9bdcaae7da",
   "metadata": {},
   "outputs": [],
   "source": [
    "# removing outliers doesnt mean the data will follow normal distribution"
   ]
  },
  {
   "cell_type": "markdown",
   "id": "3f730fc0-912a-41c3-a15b-c0287d9e8202",
   "metadata": {},
   "source": [
    "# How to deal with outliers"
   ]
  },
  {
   "cell_type": "code",
   "execution_count": 51,
   "id": "303811d9-1712-455a-b753-7fe7746701e6",
   "metadata": {},
   "outputs": [],
   "source": [
    "#method 1 drop the outliers"
   ]
  },
  {
   "cell_type": "markdown",
   "id": "64e3aa69-94ac-4de3-8503-afa789fbdb03",
   "metadata": {},
   "source": [
    "Method-1: Drop the ouliers\n",
    "- Drop the ouliers is not a good idea\n",
    "  \n",
    "- When you drop the ouliers , data will loss\n",
    "- For example here we are droping 427 rows\n",
    "- x% of 25480=427\n",
    "- it is 1.7% data, here it is fine we can drop the outlier\n",
    "\n",
    "\n",
    "- Method-2: Fill with median value \n",
    "- we already know that outliers does not affect the median\n",
    "- so we can fill outliers by median\n",
    "\n",
    "\n",
    "-  Method-3: Cap the values with Q1 and Q3\n",
    "\n",
    "\n",
    "- all Lesthan lower bound values, we can replace with q1 or LB\n",
    "- all gretaer than upper bound values , we can replace with q3 or UB\n",
    "\n",
    "\n"
   ]
  },
  {
   "cell_type": "markdown",
   "id": "a4266071-57fe-474f-b863-6d3a83392a0d",
   "metadata": {},
   "source": [
    "- Fill with median\n",
    "- create a empty list\n",
    "- calculate median value: visadata['prevailing_wage'].median\n",
    "- iterate through visadata['prevailing_wage'].values\n",
    "- if each value is < lb or >ub  then replace with median values\n",
    "- else append with i value"
   ]
  },
  {
   "cell_type": "code",
   "execution_count": 62,
   "id": "4906ba82-bbee-4c46-8c68-f58f88cd888d",
   "metadata": {},
   "outputs": [],
   "source": [
    "l1=[]\n",
    "q1=round(np.percentile(visadata['prevailing_wage'],25),2)\n",
    "q2=round(np.percentile(visadata['prevailing_wage'],50),2)\n",
    "q3=round(np.percentile(visadata['prevailing_wage'],75),2)\n",
    "iqr=q3-q1\n",
    "lb=q1-1.5*(iqr)\n",
    "ub=q3+1.5*(iqr)\n",
    "medianvalue=visadata['prevailing_wage'].median()\n",
    "for i in visadata['prevailing_wage'].values:\n",
    "    if i >ub or i<lb:\n",
    "        l1.append(medianvalue)\n",
    "    else:\n",
    "        l1.append(i)\n",
    "        "
   ]
  },
  {
   "cell_type": "code",
   "execution_count": 63,
   "id": "76463c35-7b51-48d8-8ee9-7fdb28a756a5",
   "metadata": {},
   "outputs": [],
   "source": [
    "visadatacopy=visadata.copy()"
   ]
  },
  {
   "cell_type": "code",
   "execution_count": 64,
   "id": "154fb050-9df1-42a5-a885-9f08d3247b75",
   "metadata": {},
   "outputs": [],
   "source": [
    "visadatacopy[\"prevailing_wage\"]=l1"
   ]
  },
  {
   "cell_type": "code",
   "execution_count": 65,
   "id": "193e0296-aa3e-4840-bc5c-cec1fdc9ad3d",
   "metadata": {},
   "outputs": [
    {
     "data": {
      "text/plain": [
       "{'whiskers': [<matplotlib.lines.Line2D at 0x29da26f90>,\n",
       "  <matplotlib.lines.Line2D at 0x29da27790>],\n",
       " 'caps': [<matplotlib.lines.Line2D at 0x29da30190>,\n",
       "  <matplotlib.lines.Line2D at 0x29da30ad0>],\n",
       " 'boxes': [<matplotlib.lines.Line2D at 0x29d8e2a10>],\n",
       " 'medians': [<matplotlib.lines.Line2D at 0x29da31190>],\n",
       " 'fliers': [<matplotlib.lines.Line2D at 0x29da319d0>],\n",
       " 'means': []}"
      ]
     },
     "execution_count": 65,
     "metadata": {},
     "output_type": "execute_result"
    },
    {
     "data": {
      "image/png": "[encoded data removed]",
      "text/plain": [
       "<Figure size 640x480 with 1 Axes>"
      ]
     },
     "metadata": {},
     "output_type": "display_data"
    }
   ],
   "source": [
    "plt.boxplot(visadatacopy[\"prevailing_wage\"])"
   ]
  },
  {
   "cell_type": "code",
   "execution_count": 61,
   "id": "303bdfaa-50bc-47f9-af99-29e292e88656",
   "metadata": {},
   "outputs": [
    {
     "data": {
      "text/plain": [
       "{'whiskers': [<matplotlib.lines.Line2D at 0x29d89ff50>,\n",
       "  <matplotlib.lines.Line2D at 0x29d3b8fd0>],\n",
       " 'caps': [<matplotlib.lines.Line2D at 0x29d36e4d0>,\n",
       "  <matplotlib.lines.Line2D at 0x29d33bbd0>],\n",
       " 'boxes': [<matplotlib.lines.Line2D at 0x29d3589d0>],\n",
       " 'medians': [<matplotlib.lines.Line2D at 0x29d33b390>],\n",
       " 'fliers': [<matplotlib.lines.Line2D at 0x29d33ac90>],\n",
       " 'means': []}"
      ]
     },
     "execution_count": 61,
     "metadata": {},
     "output_type": "execute_result"
    },
    {
     "data": {
      "image/png": "[encoded data removed]",
      "text/plain": [
       "<Figure size 640x480 with 1 Axes>"
      ]
     },
     "metadata": {},
     "output_type": "display_data"
    }
   ],
   "source": [
    "l1=[]\n",
    "q1=round(np.percentile(visadata['prevailing_wage'],25),2)\n",
    "q2=round(np.percentile(visadata['prevailing_wage'],50),2)\n",
    "q3=round(np.percentile(visadata['prevailing_wage'],75),2)\n",
    "iqr=q3-q1\n",
    "lb=q1-1.5*(iqr)\n",
    "ub=q3+1.5*(iqr)\n",
    "medianvalue=visadata['prevailing_wage'].median()\n",
    "for i in visadata['prevailing_wage'].values:\n",
    "    if i >ub or i<lb:\n",
    "        l1.append(medianvalue)\n",
    "    else:\n",
    "        l1.append(i)\n",
    "visadatacopy=visadata.copy()\n",
    "visadatacopy[\"prevailing_wage\"]=l1\n",
    "plt.boxplot(visadatacopy[\"prevailing_wage\"])"
   ]
  },
  {
   "cell_type": "code",
   "execution_count": 66,
   "id": "d7af2963-5305-49e8-825a-35e261d28c2d",
   "metadata": {},
   "outputs": [
    {
     "data": {
      "image/png": "[encoded data removed]",
      "text/plain": [
       "<Figure size 640x480 with 1 Axes>"
      ]
     },
     "metadata": {},
     "output_type": "display_data"
    }
   ],
   "source": [
    "l1=[]\n",
    "q1=round(np.percentile(visadata['prevailing_wage'],25),2)\n",
    "q2=round(np.percentile(visadata['prevailing_wage'],50),2)\n",
    "q3=round(np.percentile(visadata['prevailing_wage'],75),2)\n",
    "iqr=q3-q1\n",
    "lb=q1-1.5*(iqr)\n",
    "ub=q3+1.5*(iqr)\n",
    "medianvalue=visadata['prevailing_wage'].median()\n",
    "for i in visadata['prevailing_wage'].values:\n",
    "    if i >ub or i<lb:\n",
    "        l1.append(medianvalue)\n",
    "    else:\n",
    "        l1.append(i)\n",
    "visadatacopy=visadata.copy()\n",
    "visadatacopy[\"prevailing_wage\"]=l1\n",
    "plt.boxplot(visadatacopy[\"prevailing_wage\"])\n",
    "plt.show()"
   ]
  },
  {
   "cell_type": "code",
   "execution_count": 67,
   "id": "12af77ad-7ed7-49ca-997b-c0f3945def66",
   "metadata": {},
   "outputs": [
    {
     "data": {
      "image/png": "[encoded data removed]",
      "text/plain": [
       "<Figure size 640x480 with 2 Axes>"
      ]
     },
     "metadata": {},
     "output_type": "display_data"
    }
   ],
   "source": [
    "l1=[]\n",
    "q1=round(np.percentile(visadata['prevailing_wage'],25),2)\n",
    "q2=round(np.percentile(visadata['prevailing_wage'],50),2)\n",
    "q3=round(np.percentile(visadata['prevailing_wage'],75),2)\n",
    "iqr=q3-q1\n",
    "lb=q1-1.5*(iqr)\n",
    "ub=q3+1.5*(iqr)\n",
    "medianvalue=visadata['prevailing_wage'].median()\n",
    "for i in visadata['prevailing_wage'].values:\n",
    "    if i >ub or i<lb:\n",
    "        l1.append(medianvalue)\n",
    "    else:\n",
    "        l1.append(i)\n",
    "visadatacopy=visadata.copy()\n",
    "visadatacopy[\"prevailing_wage\"]=l1\n",
    "plt.subplot(1,2,1).boxplot(visadata[\"prevailing_wage\"])\n",
    "plt.subplot(1,2,2).boxplot(visadatacopy[\"prevailing_wage\"])\n",
    "plt.show()"
   ]
  },
  {
   "cell_type": "markdown",
   "id": "10ac48e0-07f2-48f4-8edb-3da8495b5a6c",
   "metadata": {},
   "source": [
    "# np.where"
   ]
  },
  {
   "cell_type": "markdown",
   "id": "769967d4-a3f8-42c8-ab4b-aaa9680b303e",
   "metadata": {},
   "source": [
    "- np.where will use for binary condition\n",
    "\n",
    "-it has 3 Arguments\n",
    "\n",
    "    -condition\n",
    "\n",
    "    -value if condition is True \n",
    "\n",
    "    -Another value if condition is False"
   ]
  },
  {
   "cell_type": "code",
   "execution_count": 70,
   "id": "8bc695a2-a7de-468c-9e57-51d1196934e7",
   "metadata": {},
   "outputs": [],
   "source": [
    "d={\"sub\":[\"ds\",\"ml\",\"cs\"],\n",
    "  \"marks\":[100,150,200]\n",
    "  }\n",
    "data=pd.DataFrame(d)\n",
    "\n",
    "#replace marks column with 1 if marks are greater than 100"
   ]
  },
  {
   "cell_type": "code",
   "execution_count": 72,
   "id": "53579c43-dbc4-44ec-97c9-f6c85b4f7423",
   "metadata": {},
   "outputs": [
    {
     "data": {
      "text/plain": [
       "0    100\n",
       "1    150\n",
       "2    200\n",
       "Name: marks, dtype: int64"
      ]
     },
     "execution_count": 72,
     "metadata": {},
     "output_type": "execute_result"
    }
   ],
   "source": [
    "data[\"marks\"]"
   ]
  },
  {
   "cell_type": "code",
   "execution_count": 73,
   "id": "6e24fcad-67e2-46ed-a3cc-d6ac24a4442a",
   "metadata": {},
   "outputs": [],
   "source": [
    "con=data[\"marks\"]>100\n",
    "l=np.where(con,1,data[\"marks\"])"
   ]
  },
  {
   "cell_type": "code",
   "execution_count": 74,
   "id": "df2c1c0b-8370-41d7-b011-adbf8a67b9b5",
   "metadata": {},
   "outputs": [
    {
     "data": {
      "text/plain": [
       "array([100,   1,   1])"
      ]
     },
     "execution_count": 74,
     "metadata": {},
     "output_type": "execute_result"
    }
   ],
   "source": [
    "l"
   ]
  },
  {
   "cell_type": "code",
   "execution_count": 76,
   "id": "0f5ad2d1-ce0a-4571-b8c4-3c296c67d220",
   "metadata": {},
   "outputs": [],
   "source": [
    "q1=round(np.percentile(visadata['prevailing_wage'],25),2)\n",
    "q2=round(np.percentile(visadata['prevailing_wage'],50),2)\n",
    "q3=round(np.percentile(visadata['prevailing_wage'],75),2)\n",
    "medianvalue=visadata['prevailing_wage'].median()\n",
    "iqr=q3-q1\n",
    "lb=q1-1.5*(iqr)\n",
    "ub=q3+1.5*(iqr)\n",
    "con1=visadata[\"prevailing_wage\"]<lb\n",
    "con1=visadata[\"prevailing_wage\"]>ub\n",
    "con=con1 | con2\n",
    "l2=np.where(con,medianvalue,visadata[\"prevailing_wage\"])"
   ]
  },
  {
   "cell_type": "code",
   "execution_count": null,
   "id": "8b025740-f1b4-4fae-9b6a-d91934d00e19",
   "metadata": {},
   "outputs": [],
   "source": []
  }
 ],
 "metadata": {
  "kernelspec": {
   "display_name": "Python 3 (ipykernel)",
   "language": "python",
   "name": "python3"
  },
  "language_info": {
   "codemirror_mode": {
    "name": "ipython",
    "version": 3
   },
   "file_extension": ".py",
   "mimetype": "text/x-python",
   "name": "python",
   "nbconvert_exporter": "python",
   "pygments_lexer": "ipython3",
   "version": "3.11.8"
  }
 },
 "nbformat": 4,
 "nbformat_minor": 5
}
